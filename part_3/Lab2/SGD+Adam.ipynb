{
  "cells": [
    {
      "cell_type": "markdown",
      "metadata": {
        "id": "AXN_cuDzlGN7"
      },
      "source": [
        "# Модификации градиентного спуска, используещиеся в нейронных сетях."
      ]
    },
    {
      "cell_type": "markdown",
      "metadata": {
        "id": "xd8L6SAjmJNg"
      },
      "source": [
        "## Стохастический градиентный спуск SGD"
      ]
    },
    {
      "cell_type": "code",
      "execution_count": 1,
      "metadata": {
        "id": "m8oeo8GJlSeT"
      },
      "outputs": [],
      "source": [
        "import numpy as np\n",
        "import torch\n",
        "import matplotlib.pyplot as plt\n",
        "from matplotlib import cm\n",
        "import time\n",
        "from keras.utils import to_categorical\n",
        "from keras import models\n",
        "from keras import layers"
      ]
    },
    {
      "cell_type": "code",
      "execution_count": 2,
      "metadata": {
        "id": "KzZ-M1cbo0IE"
      },
      "outputs": [],
      "source": [
        "def sigmoid(x):\n",
        "    return 1/(1 + np.exp(-x))\n",
        "\n",
        "def sigmoid_diff(y):\n",
        "    return y*(1 - y)\n"
      ]
    },
    {
      "cell_type": "code",
      "execution_count": null,
      "metadata": {
        "id": "dk9w4eUEo00v"
      },
      "outputs": [],
      "source": [
        "class NeuralNetwork:\n",
        "    def __init__(self, x, y): # m - объём датасета\n",
        "        self.input      = x #nxm\n",
        "        self.y          = y #1xm\n",
        "        self.diam_s     = 3 #k\n",
        "        self.weights1   = np.random.rand(self.diam_s, self.input.shape[0]) # kxn\n",
        "        self.weights2   = np.random.rand(1, self.diam_s) # 1xk\n",
        "        self.output     = np.zeros(self.y.shape) #1xm\n",
        "        self.alpha      = 1\n",
        "        self.bias       = np.random.rand(self.diam_s, 1)\n",
        "        self.b          = np.random.rand()\n",
        "        self.batch      = self.input.shape[1]\n",
        "        shuff           = np.random.shuffle(np.arange(self.input.shape[1]))\n",
        "        \n",
        "    def feedforward(self):\n",
        "        for i in np.arange(self.input.shape[1] // self.batch + int(bool(self.input.shape[1] % self.batch))):\n",
        "            batch_i = shuff[:, i*self.batch : (i+1)*self.batch]\n",
        "            self.layer1 = sigmoid(np.dot(self.weights1, self.input[:,batch_i]) + self.bias) #kxm\n",
        "            self.output = np.dot(self.weights2, self.layer1) + self.b # 1xm\n",
        "        \n",
        "    def backprop(self):\n",
        "        d_weights2 = 2*np.dot((self.y - self.output),self.layer1.T) # 1xk\n",
        "        d_weights1 = 2*self.weights2.T*np.dot((self.y - self.output)*sigmoid_diff(self.layer1),self.input.T )\n",
        "        d_bias     = 2*self.weights2.T*np.dot(sigmoid_diff(self.layer1), (self.y - self.output).T)\n",
        "        d_b        = 2+(self.y - self.output).sum()\n",
        "\n",
        "\n",
        "        self.weights1 += self.alpha * d_weights1/self.input.shape[1]\n",
        "        self.weights2 += self.alpha * d_weights2/self.input.shape[1]\n",
        "        self.bias     += self.alpha * d_bias/self.input.shape[1]\n",
        "        self.b        += self.alpha * d_b/self.input.shape[1]\n",
        "\n",
        "    def test(self, t):\n",
        "        return np.dot(self.weights2, sigmoid(np.dot(self.weights1, t) + self.bias)) + self.b"
      ]
    },
    {
      "cell_type": "markdown",
      "metadata": {
        "id": "sBBx4vjXvgMC"
      },
      "source": [
        "## Метод Нестерова"
      ]
    },
    {
      "cell_type": "markdown",
      "metadata": {
        "id": "z7hAFMFlvuWi"
      },
      "source": [
        "### Нестеров\n",
        "\n",
        "$$V_i = \\gamma V_{i-1} - \\eta\\dfrac{\\partial L}{\\partial W} $$\n",
        "\n",
        "$$V_i = \\gamma V_{i-1} - \\eta\\dfrac{\\partial L}{\\partial (W - \\gamma V_{i-1})} $$\n",
        "\n",
        "$$W = W -V_i $$"
      ]
    },
    {
      "cell_type": "markdown",
      "metadata": {
        "id": "NZ7Y9HipyV_S"
      },
      "source": [
        "## Метод адаптивного градиента AdaGrad"
      ]
    },
    {
      "cell_type": "markdown",
      "metadata": {
        "id": "2wG75D3uyixh"
      },
      "source": [
        "### AdaGrad\n",
        "\n",
        "$$G_i = G_{i-1} + \\left(\\dfrac{\\partial L}{\\partial W} \\right)^2 $$\n",
        "\n",
        "$$W = W - \\dfrac{\\eta}{\\sqrt{G_i + \\epsilon}}\\dfrac{\\partial L}{\\partial W} $$"
      ]
    },
    {
      "cell_type": "code",
      "execution_count": null,
      "metadata": {
        "id": "wWygyMbTtAn3"
      },
      "outputs": [],
      "source": []
    },
    {
      "cell_type": "code",
      "execution_count": 4,
      "metadata": {
        "id": "jXYlobokkqug"
      },
      "outputs": [],
      "source": [
        "class NeuralNetwork:\n",
        "    def __init__(self, x, y): # m - объём датасета\n",
        "        self.input      = x #nxm\n",
        "        self.y          = y #1xm\n",
        "        self.diam_s     = 3 #k\n",
        "        self.weights1   = np.random.rand(self.diam_s, self.input.shape[0]) # kxn\n",
        "        self.weights2   = np.random.rand(1, self.diam_s) # 1xk\n",
        "        self.output     = np.zeros(self.y.shape) #1xm\n",
        "        self.alpha      = 1\n",
        "        self.bias       = np.random.rand(self.diam_s, 1)\n",
        "        self.b          = np.random.rand()\n",
        "        G_d_weights2    = np.zeros(self.weights2.shape)\n",
        "        G_d_weights1    = np.zeros(self.weights1.shape)\n",
        "        G_d_bias        = np.zeros(self.bias.shape)\n",
        "        G_d_b           = 0\n",
        "        self.eps        = 0.000000001\n",
        "    def feedforward(self):\n",
        "        self.layer1 = sigmoid(np.dot(self.weights1, self.input) + self.bias) #kxm\n",
        "        self.output = np.dot(self.weights2, self.layer1) + self.b # 1xm\n",
        "\n",
        "    def backprop(self):\n",
        "        d_weights2 = 2*np.dot((self.y - self.output),self.layer1.T) # 1xk\n",
        "        d_weights1 = 2*self.weights2.T*np.dot((self.y - self.output)*sigmoid_diff(self.layer1),self.input.T )\n",
        "        d_bias     = 2*self.weights2.T*np.dot(sigmoid_diff(self.layer1), (self.y - self.output).T)\n",
        "        d_b        = 2+(self.y - self.output).sum()\n",
        "\n",
        "        G_d_weights2    += d_weights2**2\n",
        "        G_d_weights1    += d_weights1**2\n",
        "        G_d_bias        += d_bias**2\n",
        "        G_d_b           += d_b**2\n",
        "\n",
        "\n",
        "\n",
        "        self.weights1 += self.alpha * d_weights1/self.input.shape[1]/np.sqrt(G_d_weights2 + self.eps)\n",
        "        self.weights2 += self.alpha * d_weights2/self.input.shape[1]/np.sqrt(G_d_weights1 + self.eps)\n",
        "        self.bias     += self.alpha * d_bias/self.input.shape[1]/np.sqrt(G_d_bias + self.eps)\n",
        "        self.b        += self.alpha * d_b/self.input.shape[1]/np.sqrt(G_d_b + self.eps)\n",
        "\n",
        "    def test(self, t):\n",
        "        return np.dot(self.weights2, sigmoid(np.dot(self.weights1, t) + self.bias)) + self.b"
      ]
    },
    {
      "cell_type": "markdown",
      "metadata": {
        "id": "SLQUzgb71MCl"
      },
      "source": [
        "## Adam"
      ]
    },
    {
      "cell_type": "markdown",
      "metadata": {
        "id": "KsDOJ6IC1YqP"
      },
      "source": [
        "### Adam\n",
        "\n",
        "$$M_i = \\beta_1 M_{i-1} +(1-\\beta_1)\\dfrac{\\partial L}{\\partial W} $$\n",
        "\n",
        "$$V_i = \\beta_2 V_{i-1} +(1-\\beta_2)\\left(\\dfrac{\\partial L}{\\partial W} \\right)^2 $$\n",
        "\n",
        "$$\\hat{M}_i = \\dfrac{M_i}{1-\\beta_1^i} $$\n",
        "\n",
        "$$\\hat{V}_i = \\dfrac{V_i}{1-\\beta_2^i} $$\n",
        "\n",
        "$$W = W - \\dfrac{\\eta}{\\sqrt{\\hat{V}_i + \\epsilon}}\\hat{M}_i $$\n"
      ]
    },
    {
      "cell_type": "code",
      "execution_count": null,
      "metadata": {
        "id": "c4QTv6Fp08De"
      },
      "outputs": [],
      "source": []
    }
  ],
  "metadata": {
    "colab": {
      "provenance": []
    },
    "kernelspec": {
      "display_name": "Python 3.10.8 64-bit (microsoft store)",
      "language": "python",
      "name": "python3"
    },
    "language_info": {
      "name": "python",
      "version": "3.10.9"
    },
    "vscode": {
      "interpreter": {
        "hash": "5a9e6d895483e4ac7865d4817f7ba95df093d0745a5a2091cdb18d317959450f"
      }
    }
  },
  "nbformat": 4,
  "nbformat_minor": 0
}
