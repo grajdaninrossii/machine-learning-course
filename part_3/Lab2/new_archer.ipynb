{
 "cells": [
  {
   "cell_type": "code",
   "execution_count": null,
   "metadata": {},
   "outputs": [],
   "source": []
  }
 ],
 "metadata": {
  "kernelspec": {
   "display_name": "Python 3.10.8 64-bit (microsoft store)",
   "language": "python",
   "name": "python3"
  },
  "language_info": {
   "name": "python",
   "version": "3.10.8"
  },
  "orig_nbformat": 4,
  "vscode": {
   "interpreter": {
    "hash": "5a9e6d895483e4ac7865d4817f7ba95df093d0745a5a2091cdb18d317959450f"
   }
  }
 },
 "nbformat": 4,
 "nbformat_minor": 2
}
