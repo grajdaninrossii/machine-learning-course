{
  "cells": [
    {
      "cell_type": "markdown",
      "metadata": {
        "id": "Tw5GENDGurha"
      },
      "source": [
        "# Обучение с подкреплением"
      ]
    },
    {
      "attachments": {},
      "cell_type": "markdown",
      "metadata": {
        "id": "RTX2_XWfhD-N"
      },
      "source": [
        "Кузин Мирослав 4.6"
      ]
    },
    {
      "cell_type": "markdown",
      "metadata": {},
      "source": [
        "# Траектория:\n",
        "$$\\tau = (s_0,a_0,r_0),\\dots,(s_T,a_T,r_T) ,$$\n",
        "где $s_i$ состояние среды на шаге $i$, $a_i$ воздействие агента на среду на шаге $i$,\n",
        "$r_i$ вознаграждение на шаге $i$.\n",
        "\n",
        "Вознаграждение начиная с шага $t$:\n",
        "$$R_t(\\tau)=\\sum\\limits_{j=t}^{T}\\gamma^{j-t}r_{j}, $$\n",
        "$$R(\\tau) = R_0(\\tau) $$\n",
        "где $\\gamma$ дисконтный множитель (коэффициент значимости вознаграждения при переходе на следущий шаг)."
      ]
    },
    {
      "cell_type": "markdown",
      "metadata": {},
      "source": [
        "Обучение с подкреплением - набор методов, позволяющих агенту (интеллектуальной системе) вырабатывать оптимальную стратегию при его взаимодействии со средой (внешним миром). \n",
        "\n",
        "Среда предоставляет информацию, описывающую состояние системы. Агент взаимодействует со средой, наблюдая состояние и используя данную информацию при выборе действия. Среда принимает действие и переходит в следующее состояние, а затем возвращает агенту следующее состояние и вознаграждение. Когда цикл «состояние → действие → вознаграждение» завершен, предполагается, что сделан один шаг. Цикл повторяется, пока среда не завершится, например, когда задача решена."
      ]
    },
    {
      "cell_type": "markdown",
      "metadata": {},
      "source": [
        "Стратегия $\\pi$ — это функция, отображающая состояния вероятности действий, которые используются для выбора действия $a \\sim \\pi(s) $. \n",
        "\n",
        "Стратегия $\\pi$ содержит настраеваемые параметры $\\omega$, чтобы это подчеркнуть будем писать $\\pi_{\\omega}(s)$."
      ]
    },
    {
      "cell_type": "markdown",
      "metadata": {},
      "source": [
        "Целевая функция — это ожидаемая отдача по всем полным траекториям, порожденным агентом.\n",
        "$$J(\\omega)=J(\\pi_{\\omega})=M_{\\tau\\sim \\omega}R(\\tau),$$\n",
        "где $M_{\\tau\\sim \\omega}$ математическое ожидание по всех траекториям $\\tau$ соответствующим значениям параметров $\\omega$.\n",
        "\n",
        "Задача:\n",
        "$$J(\\omega)\\to \\max $$"
      ]
    },
    {
      "cell_type": "markdown",
      "metadata": {},
      "source": [
        "$$Loss(\\omega) = - R(\\tau)\\sum\\limits_t \\ln\\pi_{\\omega}(a_t\\mid s_t) $$"
      ]
    },
    {
      "cell_type": "code",
      "execution_count": null,
      "metadata": {
        "colab": {
          "base_uri": "https://localhost:8080/"
        },
        "id": "rJOo6wYvMaYP",
        "outputId": "c7353404-4524-468e-d847-3c99f6320dbe"
      },
      "outputs": [
        {
          "name": "stdout",
          "output_type": "stream",
          "text": [
            "Drive already mounted at /content/drive/; to attempt to forcibly remount, call drive.mount(\"/content/drive/\", force_remount=True).\n"
          ]
        }
      ],
      "source": [
        "from google.colab import drive\n",
        "drive.mount('/content/drive/')"
      ]
    },
    {
      "cell_type": "code",
      "execution_count": null,
      "metadata": {
        "colab": {
          "base_uri": "https://localhost:8080/",
          "height": 91
        },
        "id": "8deLpB_6Mtet",
        "outputId": "ec3a7ac9-4600-40df-87ff-e530eb4495c8"
      },
      "outputs": [
        {
          "data": {
            "text/html": [
              "\n",
              "     <input type=\"file\" id=\"files-98d3d104-cf0a-40b6-9adc-514bf46d6d57\" name=\"files[]\" multiple disabled\n",
              "        style=\"border:none\" />\n",
              "     <output id=\"result-98d3d104-cf0a-40b6-9adc-514bf46d6d57\">\n",
              "      Upload widget is only available when the cell has been executed in the\n",
              "      current browser session. Please rerun this cell to enable.\n",
              "      </output>\n",
              "      <script>// Copyright 2017 Google LLC\n",
              "//\n",
              "// Licensed under the Apache License, Version 2.0 (the \"License\");\n",
              "// you may not use this file except in compliance with the License.\n",
              "// You may obtain a copy of the License at\n",
              "//\n",
              "//      http://www.apache.org/licenses/LICENSE-2.0\n",
              "//\n",
              "// Unless required by applicable law or agreed to in writing, software\n",
              "// distributed under the License is distributed on an \"AS IS\" BASIS,\n",
              "// WITHOUT WARRANTIES OR CONDITIONS OF ANY KIND, either express or implied.\n",
              "// See the License for the specific language governing permissions and\n",
              "// limitations under the License.\n",
              "\n",
              "/**\n",
              " * @fileoverview Helpers for google.colab Python module.\n",
              " */\n",
              "(function(scope) {\n",
              "function span(text, styleAttributes = {}) {\n",
              "  const element = document.createElement('span');\n",
              "  element.textContent = text;\n",
              "  for (const key of Object.keys(styleAttributes)) {\n",
              "    element.style[key] = styleAttributes[key];\n",
              "  }\n",
              "  return element;\n",
              "}\n",
              "\n",
              "// Max number of bytes which will be uploaded at a time.\n",
              "const MAX_PAYLOAD_SIZE = 100 * 1024;\n",
              "\n",
              "function _uploadFiles(inputId, outputId) {\n",
              "  const steps = uploadFilesStep(inputId, outputId);\n",
              "  const outputElement = document.getElementById(outputId);\n",
              "  // Cache steps on the outputElement to make it available for the next call\n",
              "  // to uploadFilesContinue from Python.\n",
              "  outputElement.steps = steps;\n",
              "\n",
              "  return _uploadFilesContinue(outputId);\n",
              "}\n",
              "\n",
              "// This is roughly an async generator (not supported in the browser yet),\n",
              "// where there are multiple asynchronous steps and the Python side is going\n",
              "// to poll for completion of each step.\n",
              "// This uses a Promise to block the python side on completion of each step,\n",
              "// then passes the result of the previous step as the input to the next step.\n",
              "function _uploadFilesContinue(outputId) {\n",
              "  const outputElement = document.getElementById(outputId);\n",
              "  const steps = outputElement.steps;\n",
              "\n",
              "  const next = steps.next(outputElement.lastPromiseValue);\n",
              "  return Promise.resolve(next.value.promise).then((value) => {\n",
              "    // Cache the last promise value to make it available to the next\n",
              "    // step of the generator.\n",
              "    outputElement.lastPromiseValue = value;\n",
              "    return next.value.response;\n",
              "  });\n",
              "}\n",
              "\n",
              "/**\n",
              " * Generator function which is called between each async step of the upload\n",
              " * process.\n",
              " * @param {string} inputId Element ID of the input file picker element.\n",
              " * @param {string} outputId Element ID of the output display.\n",
              " * @return {!Iterable<!Object>} Iterable of next steps.\n",
              " */\n",
              "function* uploadFilesStep(inputId, outputId) {\n",
              "  const inputElement = document.getElementById(inputId);\n",
              "  inputElement.disabled = false;\n",
              "\n",
              "  const outputElement = document.getElementById(outputId);\n",
              "  outputElement.innerHTML = '';\n",
              "\n",
              "  const pickedPromise = new Promise((resolve) => {\n",
              "    inputElement.addEventListener('change', (e) => {\n",
              "      resolve(e.target.files);\n",
              "    });\n",
              "  });\n",
              "\n",
              "  const cancel = document.createElement('button');\n",
              "  inputElement.parentElement.appendChild(cancel);\n",
              "  cancel.textContent = 'Cancel upload';\n",
              "  const cancelPromise = new Promise((resolve) => {\n",
              "    cancel.onclick = () => {\n",
              "      resolve(null);\n",
              "    };\n",
              "  });\n",
              "\n",
              "  // Wait for the user to pick the files.\n",
              "  const files = yield {\n",
              "    promise: Promise.race([pickedPromise, cancelPromise]),\n",
              "    response: {\n",
              "      action: 'starting',\n",
              "    }\n",
              "  };\n",
              "\n",
              "  cancel.remove();\n",
              "\n",
              "  // Disable the input element since further picks are not allowed.\n",
              "  inputElement.disabled = true;\n",
              "\n",
              "  if (!files) {\n",
              "    return {\n",
              "      response: {\n",
              "        action: 'complete',\n",
              "      }\n",
              "    };\n",
              "  }\n",
              "\n",
              "  for (const file of files) {\n",
              "    const li = document.createElement('li');\n",
              "    li.append(span(file.name, {fontWeight: 'bold'}));\n",
              "    li.append(span(\n",
              "        `(${file.type || 'n/a'}) - ${file.size} bytes, ` +\n",
              "        `last modified: ${\n",
              "            file.lastModifiedDate ? file.lastModifiedDate.toLocaleDateString() :\n",
              "                                    'n/a'} - `));\n",
              "    const percent = span('0% done');\n",
              "    li.appendChild(percent);\n",
              "\n",
              "    outputElement.appendChild(li);\n",
              "\n",
              "    const fileDataPromise = new Promise((resolve) => {\n",
              "      const reader = new FileReader();\n",
              "      reader.onload = (e) => {\n",
              "        resolve(e.target.result);\n",
              "      };\n",
              "      reader.readAsArrayBuffer(file);\n",
              "    });\n",
              "    // Wait for the data to be ready.\n",
              "    let fileData = yield {\n",
              "      promise: fileDataPromise,\n",
              "      response: {\n",
              "        action: 'continue',\n",
              "      }\n",
              "    };\n",
              "\n",
              "    // Use a chunked sending to avoid message size limits. See b/62115660.\n",
              "    let position = 0;\n",
              "    do {\n",
              "      const length = Math.min(fileData.byteLength - position, MAX_PAYLOAD_SIZE);\n",
              "      const chunk = new Uint8Array(fileData, position, length);\n",
              "      position += length;\n",
              "\n",
              "      const base64 = btoa(String.fromCharCode.apply(null, chunk));\n",
              "      yield {\n",
              "        response: {\n",
              "          action: 'append',\n",
              "          file: file.name,\n",
              "          data: base64,\n",
              "        },\n",
              "      };\n",
              "\n",
              "      let percentDone = fileData.byteLength === 0 ?\n",
              "          100 :\n",
              "          Math.round((position / fileData.byteLength) * 100);\n",
              "      percent.textContent = `${percentDone}% done`;\n",
              "\n",
              "    } while (position < fileData.byteLength);\n",
              "  }\n",
              "\n",
              "  // All done.\n",
              "  yield {\n",
              "    response: {\n",
              "      action: 'complete',\n",
              "    }\n",
              "  };\n",
              "}\n",
              "\n",
              "scope.google = scope.google || {};\n",
              "scope.google.colab = scope.google.colab || {};\n",
              "scope.google.colab._files = {\n",
              "  _uploadFiles,\n",
              "  _uploadFilesContinue,\n",
              "};\n",
              "})(self);\n",
              "</script> "
            ],
            "text/plain": [
              "<IPython.core.display.HTML object>"
            ]
          },
          "metadata": {},
          "output_type": "display_data"
        },
        {
          "name": "stdout",
          "output_type": "stream",
          "text": [
            "Saving mancalaa.py to mancalaa.py\n"
          ]
        },
        {
          "data": {
            "text/plain": [
              "6204"
            ]
          },
          "execution_count": 22,
          "metadata": {},
          "output_type": "execute_result"
        }
      ],
      "source": [
        "import os\n",
        "\n",
        "work_dir = \"./drive/MyDrive/Colab Notebooks/ml4course_1laba/\" # Это все для колаба, директория на моем диске\n",
        "\n",
        "from google.colab import files\n",
        "src = list(files.upload().values())[0]\n",
        "open('mancala.py','wb').write(src) # загружаем файл с игрой для импорта\n"
      ]
    },
    {
      "cell_type": "code",
      "execution_count": 1,
      "metadata": {
        "id": "oRafZvjQurhf"
      },
      "outputs": [],
      "source": [
        "from mancala import Kalah\n",
        "import matplotlib.pyplot as plt\n",
        "%matplotlib inline\n",
        "from IPython import display\n",
        "import torch\n",
        "import torch.nn as nn\n",
        "import torch.nn.functional as F\n",
        "from torch.distributions import Categorical\n",
        "import numpy as np\n",
        "import pandas as pd\n",
        "import time\n",
        "import random"
      ]
    },
    {
      "cell_type": "markdown",
      "metadata": {
        "id": "V6F0Gj0qurhh"
      },
      "source": [
        "**Болваны**"
      ]
    },
    {
      "cell_type": "code",
      "execution_count": 2,
      "metadata": {
        "colab": {
          "base_uri": "https://localhost:8080/"
        },
        "id": "7R-PFGfXurhh",
        "outputId": "213b11df-2c99-4cca-e584-82d02f9cc075"
      },
      "outputs": [
        {
          "name": "stdout",
          "output_type": "stream",
          "text": [
            "tensor(4)\n"
          ]
        }
      ],
      "source": [
        "# Бот простой, рандомно выбирает не нулевые элементы\n",
        "def do_simple_bot_step(state: torch.Tensor) -> int:\n",
        "    nonzero_state_indexs = torch.nonzero(state[:6]).flatten()\n",
        "    rez = nonzero_state_indexs[torch.randint(0, len(nonzero_state_indexs), (1,))[0]]\n",
        "    return rez + 1\n",
        "\n",
        "\n",
        "# Бот МАСТЕР  захвата\n",
        "def do_prof_bot_step(state: torch.Tensor) -> int:\n",
        "    nonzero_state_indexs = torch.nonzero(state[:6]).flatten()\n",
        "    state_copy = state.clone()\n",
        "    captured = []\n",
        "    additional_moves = []\n",
        "    for cursor in nonzero_state_indexs:\n",
        "        cursor = int(cursor)\n",
        "        n = int(cursor)\n",
        "        temp = int(state_copy[cursor])\n",
        "        state_copy[cursor] = 0\n",
        "        while temp > 0:\n",
        "            temp -= 1\n",
        "            if cursor in range(0, 6):\n",
        "                cursor += 1\n",
        "            elif cursor == 6:\n",
        "                cursor = 13\n",
        "            elif cursor in range(9, 14):\n",
        "                cursor -= 1\n",
        "            elif cursor == 8:\n",
        "                cursor = 0\n",
        "\n",
        "            state_copy[cursor] += 1\n",
        "\n",
        "        if cursor == 6:\n",
        "            additional_moves.append(n)\n",
        "\n",
        "        if cursor < 6 and state_copy[cursor] == 1 and state_copy[cursor%6-6] != 0:\n",
        "            state_copy[6] += sum([state_copy[cursor], state_copy[cursor%6-6]])\n",
        "            captured.append((n, sum([state_copy[cursor], state_copy[cursor%6-6]])))\n",
        "        state_copy = state.clone()\n",
        "\n",
        "\n",
        "    if captured != []:\n",
        "        rez_ind = sorted(captured, key=lambda x: x[1])\n",
        "        rez = rez_ind[-1][0]\n",
        "    # elif additional_moves != []: # не использовал(а) при обучении, ибо плохо обучается с этой фичей (проверка на доп ход)\n",
        "    #     rez = additional_moves[torch.randint(0, len(additional_moves), (1,))[0]]\n",
        "    else:\n",
        "        rez = nonzero_state_indexs[torch.randint(0, len(nonzero_state_indexs), (1,))[0]]\n",
        "    return rez + 1\n",
        "\n",
        "\n",
        "do_simple_bot_step(torch.Tensor([1, 0, 1, 0, 0, 0, 0]))\n",
        "print(do_prof_bot_step(torch.Tensor([6, 6, 6, 6, 6, 6, 0, 0, 6, 6, 6, 6, 6, 6])))"
      ]
    },
    {
      "cell_type": "markdown",
      "metadata": {
        "id": "sfjQtbH9urhj"
      },
      "source": [
        "**Модель**"
      ]
    },
    {
      "cell_type": "code",
      "execution_count": 30,
      "metadata": {
        "id": "PDiXZIA2urhj"
      },
      "outputs": [
        {
          "data": {
            "text/plain": [
              "Sequential(\n",
              "  (0): Linear(in_features=14, out_features=28, bias=True)\n",
              "  (1): ReLU()\n",
              "  (2): Linear(in_features=28, out_features=56, bias=True)\n",
              "  (3): ReLU()\n",
              "  (4): Linear(in_features=56, out_features=6, bias=True)\n",
              "  (5): Softmax(dim=-1)\n",
              ")"
            ]
          },
          "execution_count": 30,
          "metadata": {},
          "output_type": "execute_result"
        }
      ],
      "source": [
        "model = torch.load(\"model2_winner_test6.pt\")\n",
        "\n",
        "model2 = torch.load(\"model_winner_ver4.pt\")\n",
        "model2.to(torch.float)\n",
        "model.to(torch.float)"
      ]
    },
    {
      "cell_type": "code",
      "execution_count": 31,
      "metadata": {
        "id": "ENW-aAtPhz4g"
      },
      "outputs": [
        {
          "name": "stdout",
          "output_type": "stream",
          "text": [
            "tensor(0.0267, grad_fn=<VarBackward0>) tensor(-0.0176, grad_fn=<MeanBackward0>)\n",
            "tensor(0.0296, grad_fn=<VarBackward0>) tensor(0.0199, grad_fn=<MeanBackward0>)\n",
            "----------------------------------------------------------------\n",
            "        Layer (type)               Output Shape         Param #\n",
            "================================================================\n",
            "            Linear-1                   [-1, 28]             420\n",
            "              ReLU-2                   [-1, 28]               0\n",
            "            Linear-3                   [-1, 56]           1,624\n",
            "              ReLU-4                   [-1, 56]               0\n",
            "            Linear-5                    [-1, 6]             342\n",
            "           Softmax-6                    [-1, 6]               0\n",
            "================================================================\n",
            "Total params: 2,386\n",
            "Trainable params: 2,386\n",
            "Non-trainable params: 0\n",
            "----------------------------------------------------------------\n",
            "Input size (MB): 0.00\n",
            "Forward/backward pass size (MB): 0.00\n",
            "Params size (MB): 0.01\n",
            "Estimated Total Size (MB): 0.01\n",
            "----------------------------------------------------------------\n",
            "None\n",
            "----------------------------------------------------------------\n",
            "        Layer (type)               Output Shape         Param #\n",
            "================================================================\n",
            "            Linear-1                   [-1, 42]             630\n",
            "              ReLU-2                   [-1, 42]               0\n",
            "            Linear-3                    [-1, 6]             258\n",
            "           Softmax-4                    [-1, 6]               0\n",
            "================================================================\n",
            "Total params: 888\n",
            "Trainable params: 888\n",
            "Non-trainable params: 0\n",
            "----------------------------------------------------------------\n",
            "Input size (MB): 0.00\n",
            "Forward/backward pass size (MB): 0.00\n",
            "Params size (MB): 0.00\n",
            "Estimated Total Size (MB): 0.00\n",
            "----------------------------------------------------------------\n",
            "None\n"
          ]
        }
      ],
      "source": [
        "from torchsummary import summary\n",
        "\n",
        "# print(list(model.parameters())[0])\n",
        "# print(f\"model 2 {list(model2.parameters())}\")\n",
        "# print(torch.Tensor(list(model.parameters())[0])-torch.Tensor(list(model2.parameters())[0]))\n",
        "print(torch.var(torch.Tensor(list(model.parameters())[1])), torch.mean(torch.Tensor(list(model.parameters())[1])))\n",
        "print(torch.var(torch.Tensor(list(model2.parameters())[1])), torch.mean(torch.Tensor(list(model2.parameters())[1])))\n",
        "print(summary(model, torch.Tensor([0, 1, 2, 3, 4, 5, 6, 7, 8, 9, 10 , 11, 12, 13]).size()))\n",
        "print(summary(model2, torch.Tensor([0, 1, 2, 3, 4, 5, 6, 7, 8, 9, 10 , 11, 12, 13]).size()))"
      ]
    },
    {
      "cell_type": "code",
      "execution_count": 15,
      "metadata": {},
      "outputs": [
        {
          "data": {
            "text/plain": [
              "Sequential(\n",
              "  (0): Linear(in_features=14, out_features=42, bias=True)\n",
              "  (1): ReLU()\n",
              "  (2): Linear(in_features=42, out_features=6, bias=True)\n",
              "  (3): Softmax(dim=-1)\n",
              ")"
            ]
          },
          "execution_count": 15,
          "metadata": {},
          "output_type": "execute_result"
        }
      ],
      "source": [
        "model2.to(torch.float)"
      ]
    },
    {
      "cell_type": "markdown",
      "metadata": {
        "id": "0vlVDddSurhk"
      },
      "source": [
        "**Настройка обучения**"
      ]
    },
    {
      "cell_type": "code",
      "execution_count": null,
      "metadata": {
        "colab": {
          "base_uri": "https://localhost:8080/"
        },
        "id": "_Yf8tsF5urhk",
        "outputId": "4b2c98da-c4ac-4697-8c98-c6b59c315ffe"
      },
      "outputs": [
        {
          "name": "stdout",
          "output_type": "stream",
          "text": [
            "cpu\n"
          ]
        }
      ],
      "source": [
        "def loss_func(probs: torch.Tensor, action: int, m: Categorical, R: int, n: int):\n",
        "    alpha = 7 # 1 - при начале обучения, чтобы не ловить мега минус\n",
        "    beta = 1e-4\n",
        "    return -(alpha/n)*R*m.log_prob(action) # m.log_prob - обычный ln от вероятности действия a (m-объект Categorical, хранит в себе вероятности), т.е. ln a\n",
        "\n",
        "# Начало обучения при lr=1.0e-3, после 10000 эпох 1.0e-4 там 30000 и до нынешнего ушло около 150000 эпох\n",
        "optimizer = torch.optim.Adam(model.parameters(), lr=1.0e-6, amsgrad=True)\n",
        "\n",
        "# Не использовалась, ибо на cpu уверенно шло\n",
        "device = torch.device(\"cuda:0\" if torch.cuda.is_available() else \"cpu\")\n",
        "print(device)"
      ]
    },
    {
      "cell_type": "markdown",
      "metadata": {
        "id": "t5hQ4ubZurhl"
      },
      "source": [
        "**Обучение**"
      ]
    },
    {
      "cell_type": "code",
      "execution_count": 48,
      "metadata": {
        "colab": {
          "base_uri": "https://localhost:8080/"
        },
        "id": "ariqVsVBurhl",
        "outputId": "8cfcf848-f631-4c0e-853b-7c13c9c9e734"
      },
      "outputs": [
        {
          "name": "stdout",
          "output_type": "stream",
          "text": [
            "tensor([6, 6, 6, 6, 6, 6, 0, 0, 6, 6, 6, 6, 6, 6])\n"
          ]
        },
        {
          "data": {
            "text/plain": [
              "tensor([1.0456e-03, 9.9873e-01, 9.2770e-08, 2.2892e-04, 3.7919e-08, 1.1613e-07],\n",
              "       grad_fn=<SoftmaxBackward0>)"
            ]
          },
          "execution_count": 48,
          "metadata": {},
          "output_type": "execute_result"
        }
      ],
      "source": [
        "# Проверка работы модели\n",
        "game = Kalah()\n",
        "print(game.get_general_state())\n",
        "model(game.get_general_state().to(torch.float))"
      ]
    },
    {
      "cell_type": "code",
      "execution_count": 13,
      "metadata": {
        "id": "3yHbHL0J0fXN"
      },
      "outputs": [],
      "source": [
        "def take_step_neuronet(game: Kalah):\n",
        "    global model2\n",
        "    old_player_making_step = game.get_player_making_step()\n",
        "    # print(\"Ход нейронки! \", old_player_making_step == game.get_player_making_step())\n",
        "    bad_choise = []\n",
        "    while not game.get_game_over() and old_player_making_step == game.get_player_making_step():\n",
        "        # Выбор хода\n",
        "        probs = model2(game.get_state().to(torch.float))\n",
        "        action = probs.argmax()\n",
        "\n",
        "        while action in bad_choise:\n",
        "            probs[probs.argmax()] = 0\n",
        "            action = probs.argmax()\n",
        "\n",
        "            rezult_step = game.take_step(action + 1)\n",
        "        rezult_step = game.take_step(action + 1)\n",
        "        if rezult_step == \"Куча пустая, выберите другую!\":\n",
        "            count_choisen_zero += 1\n",
        "            print(\"Neuronet_emeny took step, but heap is empty\", game.get_player_making_step(), \"Был выбор\", action + 1, rezult_step)\n",
        "            bad_choise.append(action)\n",
        "        else:\n",
        "            # print(f\"Нейросеть делает ход! Выбор лунки {action + 1}\")\n",
        "            # game.print_state()\n",
        "            bad_choise = []\n",
        "        # print(action + 1)"
      ]
    },
    {
      "cell_type": "markdown",
      "metadata": {
        "id": "KvTx7mWrurhm"
      },
      "source": [
        "*Награды и штрафы*"
      ]
    },
    {
      "cell_type": "code",
      "execution_count": null,
      "metadata": {
        "id": "edZXapeHurhm"
      },
      "outputs": [],
      "source": [
        "rewards = torch.Tensor([15, 4, -300])"
      ]
    },
    {
      "cell_type": "code",
      "execution_count": 50,
      "metadata": {
        "id": "rdFPqCUN_5Mt"
      },
      "outputs": [],
      "source": [
        "def take_step_bot(game: Kalah):\n",
        "      old_player_making_step = game.get_player_making_step()\n",
        "      while not game.get_game_over() and old_player_making_step == game.get_player_making_step():\n",
        "          # Выбор режима для бота\n",
        "          # bot_action = do_prof_bot_step(game.get_state())\n",
        "          bot_action = do_simple_bot_step(game.get_state())\n",
        "          rezult_step = game.take_step(bot_action)"
      ]
    },
    {
      "cell_type": "code",
      "execution_count": null,
      "metadata": {
        "colab": {
          "base_uri": "https://localhost:8080/"
        },
        "id": "mBxwRPuiurhn",
        "outputId": "c75dabd4-50f4-4ca1-e930-cddc1dfcc9ca"
      },
      "outputs": [
        {
          "name": "stdout",
          "output_type": "stream",
          "text": [
            "0 tensor(17.1441, grad_fn=<AddBackward0>) Номер хода нейронки 1 , Победитель 1 tensor(15.) 15\n",
            "1 tensor(-51.8400, grad_fn=<AddBackward0>) Номер хода нейронки 2 , Победитель 2 tensor(15.) 22\n",
            "150 tensor(61.4358, grad_fn=<AddBackward0>) Номер хода нейронки 1 , Победитель 1 tensor(15.) 29\n",
            "151 tensor(20.4449, grad_fn=<AddBackward0>) Номер хода нейронки 2 , Победитель 2 tensor(15.) 37\n",
            "300 tensor(14.7412, grad_fn=<AddBackward0>) Номер хода нейронки 1 , Победитель 1 tensor(15.) 19\n",
            "301 tensor(7.1277, grad_fn=<AddBackward0>) Номер хода нейронки 2 , Победитель 2 tensor(15.) 20\n",
            "450 tensor(11.6027, grad_fn=<AddBackward0>) Номер хода нейронки 1 , Победитель 1 tensor(15.) 24\n",
            "451 tensor(34.3777, grad_fn=<AddBackward0>) Номер хода нейронки 2 , Победитель 2 tensor(15.) 25\n",
            "600 tensor(31.7070, grad_fn=<AddBackward0>) Номер хода нейронки 1 , Победитель 1 tensor(15.) 27\n",
            "601 tensor(33.0397, grad_fn=<AddBackward0>) Номер хода нейронки 2 , Победитель 2 tensor(15.) 27\n",
            "750 tensor(88.7853, grad_fn=<AddBackward0>) Номер хода нейронки 1 , Победитель 1 tensor(15.) 38\n",
            "751 tensor(73.6936, grad_fn=<AddBackward0>) Номер хода нейронки 2 , Победитель 2 tensor(15.) 24\n",
            "900 tensor(20.2864, grad_fn=<AddBackward0>) Номер хода нейронки 1 , Победитель 1 tensor(15.) 17\n",
            "901 tensor(11.6156, grad_fn=<AddBackward0>) Номер хода нейронки 2 , Победитель 2 tensor(15.) 14\n",
            "1050 tensor(79.6051, grad_fn=<AddBackward0>) Номер хода нейронки 1 , Победитель 1 tensor(15.) 19\n",
            "1051 tensor(63.0809, grad_fn=<AddBackward0>) Номер хода нейронки 2 , Победитель 2 tensor(15.) 30\n",
            "1200 tensor(37.9269, grad_fn=<AddBackward0>) Номер хода нейронки 1 , Победитель 1 tensor(15.) 31\n",
            "1201 tensor(30.2689, grad_fn=<AddBackward0>) Номер хода нейронки 2 , Победитель 2 tensor(15.) 31\n",
            "1350 tensor(-54.6456, grad_fn=<AddBackward0>) Номер хода нейронки 1 , Победитель 2 tensor(-7.) 28\n",
            "1351 tensor(58.8946, grad_fn=<AddBackward0>) Номер хода нейронки 2 , Победитель 2 tensor(15.) 20\n",
            "1500 tensor(27.5970, grad_fn=<AddBackward0>) Номер хода нейронки 1 , Победитель 1 tensor(15.) 21\n",
            "1501 tensor(18.3274, grad_fn=<AddBackward0>) Номер хода нейронки 2 , Победитель 2 tensor(15.) 19\n",
            "1650 tensor(171.8834, grad_fn=<AddBackward0>) Номер хода нейронки 1 , Победитель 1 tensor(15.) 22\n",
            "1651 tensor(31.9799, grad_fn=<AddBackward0>) Номер хода нейронки 2 , Победитель 2 tensor(15.) 28\n",
            "1800 tensor(17.3966, grad_fn=<AddBackward0>) Номер хода нейронки 1 , Победитель 1 tensor(15.) 34\n",
            "1801 tensor(40.7122, grad_fn=<AddBackward0>) Номер хода нейронки 2 , Победитель 2 tensor(15.) 39\n",
            "1950 tensor(-3.3524, grad_fn=<AddBackward0>) Номер хода нейронки 1 , Победитель 1 tensor(15.) 28\n",
            "1951 tensor(32.0336, grad_fn=<AddBackward0>) Номер хода нейронки 2 , Победитель 2 tensor(15.) 33\n",
            "2100 tensor(17.3037, grad_fn=<AddBackward0>) Номер хода нейронки 1 , Победитель 1 tensor(15.) 30\n",
            "2101 tensor(36.2323, grad_fn=<AddBackward0>) Номер хода нейронки 2 , Победитель 2 tensor(15.) 12\n",
            "2250 tensor(5.5388, grad_fn=<AddBackward0>) Номер хода нейронки 1 , Победитель 1 tensor(15.) 32\n",
            "2251 tensor(14.2000, grad_fn=<AddBackward0>) Номер хода нейронки 2 , Победитель 1 tensor(-7.) 31\n",
            "2400 tensor(18.1203, grad_fn=<AddBackward0>) Номер хода нейронки 1 , Победитель 1 tensor(15.) 38\n",
            "2401 tensor(2.8835, grad_fn=<AddBackward0>) Номер хода нейронки 2 , Победитель 2 tensor(15.) 17\n",
            "2550 tensor(8.0624, grad_fn=<AddBackward0>) Номер хода нейронки 1 , Победитель 1 tensor(15.) 27\n",
            "2551 tensor(20.9551, grad_fn=<AddBackward0>) Номер хода нейронки 2 , Победитель 2 tensor(15.) 28\n",
            "2700 tensor(50.2693, grad_fn=<AddBackward0>) Номер хода нейронки 1 , Победитель 1 tensor(15.) 33\n",
            "2701 tensor(32.4694, grad_fn=<AddBackward0>) Номер хода нейронки 2 , Победитель 2 tensor(15.) 17\n",
            "2850 tensor(-8.6666, grad_fn=<AddBackward0>) Номер хода нейронки 1 , Победитель 1 tensor(15.) 28\n",
            "2851 tensor(58.3662, grad_fn=<AddBackward0>) Номер хода нейронки 2 , Победитель 2 tensor(15.) 18\n",
            "3000 tensor(2.4804, grad_fn=<AddBackward0>) Номер хода нейронки 1 , Победитель 1 tensor(15.) 13\n",
            "3001 tensor(27.3592, grad_fn=<AddBackward0>) Номер хода нейронки 2 , Победитель 2 tensor(15.) 32\n",
            "3150 tensor(4.9384, grad_fn=<AddBackward0>) Номер хода нейронки 1 , Победитель 1 tensor(15.) 20\n",
            "3151 tensor(30.2274, grad_fn=<AddBackward0>) Номер хода нейронки 2 , Победитель 2 tensor(15.) 16\n",
            "3300 tensor(29.7088, grad_fn=<AddBackward0>) Номер хода нейронки 1 , Победитель 1 tensor(15.) 28\n",
            "3301 tensor(36.3592, grad_fn=<AddBackward0>) Номер хода нейронки 2 , Победитель 2 tensor(15.) 19\n",
            "3450 tensor(65.6088, grad_fn=<AddBackward0>) Номер хода нейронки 1 , Победитель 1 tensor(15.) 34\n",
            "3451 tensor(47.2085, grad_fn=<AddBackward0>) Номер хода нейронки 2 , Победитель 2 tensor(15.) 27\n",
            "3600 tensor(4.9633, grad_fn=<AddBackward0>) Номер хода нейронки 1 , Победитель 1 tensor(15.) 29\n",
            "3601 tensor(19.9042, grad_fn=<AddBackward0>) Номер хода нейронки 2 , Победитель 1 tensor(-7.) 35\n",
            "3750 tensor(12.3656, grad_fn=<AddBackward0>) Номер хода нейронки 1 , Победитель 1 tensor(15.) 27\n",
            "3751 tensor(20.0281, grad_fn=<AddBackward0>) Номер хода нейронки 2 , Победитель 2 tensor(15.) 23\n",
            "3900 tensor(16.9654, grad_fn=<AddBackward0>) Номер хода нейронки 1 , Победитель 1 tensor(15.) 40\n",
            "3901 tensor(132.0342, grad_fn=<AddBackward0>) Номер хода нейронки 2 , Победитель 2 tensor(15.) 16\n",
            "4050 tensor(9.8345, grad_fn=<AddBackward0>) Номер хода нейронки 1 , Победитель 1 tensor(15.) 21\n",
            "4051 tensor(103.1601, grad_fn=<AddBackward0>) Номер хода нейронки 2 , Победитель 2 tensor(15.) 39\n",
            "4200 tensor(12.7538, grad_fn=<AddBackward0>) Номер хода нейронки 1 , Победитель 0 tensor(-7.) 36\n",
            "4201 tensor(4.5200, grad_fn=<AddBackward0>) Номер хода нейронки 2 , Победитель 2 tensor(15.) 16\n",
            "4350 tensor(8.8513, grad_fn=<AddBackward0>) Номер хода нейронки 1 , Победитель 1 tensor(15.) 23\n",
            "4351 tensor(227.2786, grad_fn=<AddBackward0>) Номер хода нейронки 2 , Победитель 2 tensor(15.) 20\n",
            "4500 tensor(113.4080, grad_fn=<AddBackward0>) Номер хода нейронки 1 , Победитель 1 tensor(15.) 32\n",
            "4501 tensor(34.3685, grad_fn=<AddBackward0>) Номер хода нейронки 2 , Победитель 2 tensor(15.) 32\n",
            "4650 tensor(2.8830, grad_fn=<AddBackward0>) Номер хода нейронки 1 , Победитель 1 tensor(15.) 23\n",
            "4651 tensor(8.4744, grad_fn=<AddBackward0>) Номер хода нейронки 2 , Победитель 2 tensor(15.) 15\n",
            "4800 tensor(13.1148, grad_fn=<AddBackward0>) Номер хода нейронки 1 , Победитель 1 tensor(15.) 21\n",
            "4801 tensor(92.1583, grad_fn=<AddBackward0>) Номер хода нейронки 2 , Победитель 2 tensor(15.) 30\n",
            "4950 tensor(19.1125, grad_fn=<AddBackward0>) Номер хода нейронки 1 , Победитель 1 tensor(15.) 30\n",
            "4951 tensor(3.2984, grad_fn=<AddBackward0>) Номер хода нейронки 2 , Победитель 1 tensor(-7.) 32\n",
            "5100 tensor(40.4699, grad_fn=<AddBackward0>) Номер хода нейронки 1 , Победитель 1 tensor(15.) 14\n",
            "5101 tensor(30.5366, grad_fn=<AddBackward0>) Номер хода нейронки 2 , Победитель 2 tensor(15.) 14\n",
            "5250 tensor(72.0483, grad_fn=<AddBackward0>) Номер хода нейронки 1 , Победитель 1 tensor(15.) 27\n",
            "5251 tensor(0.3168, grad_fn=<AddBackward0>) Номер хода нейронки 2 , Победитель 1 tensor(-7.) 17\n",
            "5400 tensor(50.2836, grad_fn=<AddBackward0>) Номер хода нейронки 1 , Победитель 1 tensor(15.) 36\n",
            "5401 tensor(-3.5912, grad_fn=<AddBackward0>) Номер хода нейронки 2 , Победитель 2 tensor(15.) 37\n",
            "5550 tensor(5.6247, grad_fn=<AddBackward0>) Номер хода нейронки 1 , Победитель 1 tensor(15.) 24\n",
            "5551 tensor(66.2549, grad_fn=<AddBackward0>) Номер хода нейронки 2 , Победитель 2 tensor(15.) 26\n",
            "5700 tensor(13.3090, grad_fn=<AddBackward0>) Номер хода нейронки 1 , Победитель 1 tensor(15.) 25\n",
            "5701 tensor(82.2444, grad_fn=<AddBackward0>) Номер хода нейронки 2 , Победитель 2 tensor(15.) 20\n",
            "5850 tensor(37.9394, grad_fn=<AddBackward0>) Номер хода нейронки 1 , Победитель 1 tensor(15.) 35\n",
            "5851 tensor(-542.0295, grad_fn=<AddBackward0>) Номер хода нейронки 2 , Победитель 2 tensor(15.) 38\n",
            "6000 tensor(220.6568, grad_fn=<AddBackward0>) Номер хода нейронки 1 , Победитель 1 tensor(15.) 24\n",
            "6001 tensor(15.0567, grad_fn=<AddBackward0>) Номер хода нейронки 2 , Победитель 2 tensor(15.) 29\n",
            "6150 tensor(3.8930, grad_fn=<AddBackward0>) Номер хода нейронки 1 , Победитель 0 tensor(-7.) 35\n",
            "6151 tensor(14.6315, grad_fn=<AddBackward0>) Номер хода нейронки 2 , Победитель 2 tensor(15.) 37\n",
            "6300 tensor(12.3526, grad_fn=<AddBackward0>) Номер хода нейронки 1 , Победитель 1 tensor(15.) 24\n",
            "6301 tensor(17.1448, grad_fn=<AddBackward0>) Номер хода нейронки 2 , Победитель 1 tensor(-7.) 32\n",
            "6450 tensor(0.0661, grad_fn=<AddBackward0>) Номер хода нейронки 1 , Победитель 2 tensor(-7.) 12\n",
            "6451 tensor(0.7947, grad_fn=<AddBackward0>) Номер хода нейронки 2 , Победитель 2 tensor(15.) 28\n",
            "6600 tensor(19.8282, grad_fn=<AddBackward0>) Номер хода нейронки 1 , Победитель 1 tensor(15.) 26\n",
            "6601 tensor(13.9550, grad_fn=<AddBackward0>) Номер хода нейронки 2 , Победитель 2 tensor(15.) 17\n",
            "6750 tensor(20.1439, grad_fn=<AddBackward0>) Номер хода нейронки 1 , Победитель 1 tensor(15.) 19\n",
            "6751 tensor(1.5303, grad_fn=<AddBackward0>) Номер хода нейронки 2 , Победитель 2 tensor(15.) 28\n",
            "6900 tensor(-37.4337, grad_fn=<AddBackward0>) Номер хода нейронки 1 , Победитель 2 tensor(-7.) 30\n",
            "6901 tensor(-26.2915, grad_fn=<AddBackward0>) Номер хода нейронки 2 , Победитель 1 tensor(-7.) 35\n",
            "7050 tensor(2.8062, grad_fn=<AddBackward0>) Номер хода нейронки 1 , Победитель 1 tensor(15.) 17\n",
            "7051 tensor(11.1475, grad_fn=<AddBackward0>) Номер хода нейронки 2 , Победитель 2 tensor(15.) 15\n",
            "7200 tensor(14.0738, grad_fn=<AddBackward0>) Номер хода нейронки 1 , Победитель 1 tensor(15.) 24\n",
            "7201 tensor(4.3590, grad_fn=<AddBackward0>) Номер хода нейронки 2 , Победитель 2 tensor(15.) 26\n",
            "7350 tensor(40.3588, grad_fn=<AddBackward0>) Номер хода нейронки 1 , Победитель 1 tensor(15.) 24\n",
            "7351 tensor(4.2156, grad_fn=<AddBackward0>) Номер хода нейронки 2 , Победитель 0 tensor(-7.) 26\n",
            "7500 tensor(126.2129, grad_fn=<AddBackward0>) Номер хода нейронки 1 , Победитель 1 tensor(15.) 25\n",
            "7501 tensor(90.2827, grad_fn=<AddBackward0>) Номер хода нейронки 2 , Победитель 2 tensor(15.) 29\n",
            "7650 tensor(31.8392, grad_fn=<AddBackward0>) Номер хода нейронки 1 , Победитель 1 tensor(15.) 28\n",
            "7651 tensor(25.0692, grad_fn=<AddBackward0>) Номер хода нейронки 2 , Победитель 2 tensor(15.) 23\n",
            "7800 tensor(62.6203, grad_fn=<AddBackward0>) Номер хода нейронки 1 , Победитель 1 tensor(15.) 34\n",
            "7801 tensor(16.8924, grad_fn=<AddBackward0>) Номер хода нейронки 2 , Победитель 0 tensor(-7.) 18\n",
            "7950 tensor(5.8567, grad_fn=<AddBackward0>) Номер хода нейронки 1 , Победитель 1 tensor(15.) 17\n",
            "7951 tensor(124.0628, grad_fn=<AddBackward0>) Номер хода нейронки 2 , Победитель 2 tensor(15.) 23\n",
            "8100 tensor(10.4780, grad_fn=<AddBackward0>) Номер хода нейронки 1 , Победитель 1 tensor(15.) 38\n",
            "8101 tensor(62.9644, grad_fn=<AddBackward0>) Номер хода нейронки 2 , Победитель 2 tensor(15.) 28\n",
            "8250 tensor(34.0036, grad_fn=<AddBackward0>) Номер хода нейронки 1 , Победитель 1 tensor(15.) 20\n",
            "8251 tensor(18.2874, grad_fn=<AddBackward0>) Номер хода нейронки 2 , Победитель 2 tensor(15.) 35\n",
            "8400 tensor(14.5746, grad_fn=<AddBackward0>) Номер хода нейронки 1 , Победитель 1 tensor(15.) 22\n",
            "8401 tensor(7.5857, grad_fn=<AddBackward0>) Номер хода нейронки 2 , Победитель 2 tensor(15.) 18\n",
            "8550 tensor(0.9878, grad_fn=<AddBackward0>) Номер хода нейронки 1 , Победитель 0 tensor(-7.) 38\n",
            "8551 tensor(3.9064, grad_fn=<AddBackward0>) Номер хода нейронки 2 , Победитель 2 tensor(15.) 23\n",
            "8700 tensor(39.7991, grad_fn=<AddBackward0>) Номер хода нейронки 1 , Победитель 1 tensor(15.) 31\n",
            "8701 tensor(0.2620, grad_fn=<AddBackward0>) Номер хода нейронки 2 , Победитель 2 tensor(15.) 16\n",
            "8850 tensor(6.6088, grad_fn=<AddBackward0>) Номер хода нейронки 1 , Победитель 1 tensor(15.) 30\n",
            "8851 tensor(-5.1626, grad_fn=<AddBackward0>) Номер хода нейронки 2 , Победитель 2 tensor(15.) 25\n",
            "9000 tensor(68.3588, grad_fn=<AddBackward0>) Номер хода нейронки 1 , Победитель 1 tensor(15.) 41\n",
            "9001 tensor(31.3845, grad_fn=<AddBackward0>) Номер хода нейронки 2 , Победитель 2 tensor(15.) 19\n",
            "9150 tensor(13.0224, grad_fn=<AddBackward0>) Номер хода нейронки 1 , Победитель 1 tensor(15.) 29\n",
            "9151 tensor(15.4407, grad_fn=<AddBackward0>) Номер хода нейронки 2 , Победитель 2 tensor(15.) 27\n",
            "9300 tensor(6.4446, grad_fn=<AddBackward0>) Номер хода нейронки 1 , Победитель 1 tensor(15.) 23\n",
            "9301 tensor(-222.7287, grad_fn=<AddBackward0>) Номер хода нейронки 2 , Победитель 1 tensor(-7.) 38\n",
            "9450 tensor(0.0016, grad_fn=<AddBackward0>) Номер хода нейронки 1 , Победитель 1 tensor(15.) 8\n",
            "9451 tensor(6.7090, grad_fn=<AddBackward0>) Номер хода нейронки 2 , Победитель 2 tensor(15.) 21\n",
            "9600 tensor(54.0723, grad_fn=<AddBackward0>) Номер хода нейронки 1 , Победитель 1 tensor(15.) 28\n",
            "9601 tensor(11.4320, grad_fn=<AddBackward0>) Номер хода нейронки 2 , Победитель 2 tensor(15.) 37\n",
            "9750 tensor(13.1368, grad_fn=<AddBackward0>) Номер хода нейронки 1 , Победитель 1 tensor(15.) 20\n",
            "9751 tensor(32.7492, grad_fn=<AddBackward0>) Номер хода нейронки 2 , Победитель 2 tensor(15.) 16\n",
            "9900 tensor(11.2305, grad_fn=<AddBackward0>) Номер хода нейронки 1 , Победитель 1 tensor(15.) 34\n",
            "9901 tensor(-2.3109, grad_fn=<AddBackward0>) Номер хода нейронки 2 , Победитель 1 tensor(-7.) 27\n",
            "updated loss\n",
            "10050 tensor(2.5397, grad_fn=<AddBackward0>) Номер хода нейронки 1 , Победитель 1 tensor(15.) 26\n",
            "10051 tensor(30.2716, grad_fn=<AddBackward0>) Номер хода нейронки 2 , Победитель 2 tensor(15.) 29\n",
            "10200 tensor(30.4338, grad_fn=<AddBackward0>) Номер хода нейронки 1 , Победитель 1 tensor(15.) 27\n",
            "10201 tensor(5.7008, grad_fn=<AddBackward0>) Номер хода нейронки 2 , Победитель 2 tensor(15.) 31\n",
            "10350 tensor(6.9687, grad_fn=<AddBackward0>) Номер хода нейронки 1 , Победитель 1 tensor(15.) 29\n",
            "10351 tensor(42.3722, grad_fn=<AddBackward0>) Номер хода нейронки 2 , Победитель 2 tensor(15.) 36\n",
            "10500 tensor(24.8523, grad_fn=<AddBackward0>) Номер хода нейронки 1 , Победитель 1 tensor(15.) 37\n",
            "10501 tensor(-0.7230, grad_fn=<AddBackward0>) Номер хода нейронки 2 , Победитель 0 tensor(-7.) 27\n",
            "10650 tensor(27.9814, grad_fn=<AddBackward0>) Номер хода нейронки 1 , Победитель 1 tensor(15.) 15\n",
            "10651 tensor(20.8706, grad_fn=<AddBackward0>) Номер хода нейронки 2 , Победитель 2 tensor(15.) 28\n",
            "10800 tensor(14.6343, grad_fn=<AddBackward0>) Номер хода нейронки 1 , Победитель 1 tensor(15.) 29\n",
            "10801 tensor(84.3774, grad_fn=<AddBackward0>) Номер хода нейронки 2 , Победитель 2 tensor(15.) 19\n",
            "10950 tensor(1.8594, grad_fn=<AddBackward0>) Номер хода нейронки 1 , Победитель 2 tensor(-7.) 15\n",
            "10951 tensor(26.5164, grad_fn=<AddBackward0>) Номер хода нейронки 2 , Победитель 2 tensor(15.) 39\n",
            "11100 tensor(23.1643, grad_fn=<AddBackward0>) Номер хода нейронки 1 , Победитель 1 tensor(15.) 33\n",
            "11101 tensor(46.2153, grad_fn=<AddBackward0>) Номер хода нейронки 2 , Победитель 2 tensor(15.) 44\n",
            "11250 tensor(28.8643, grad_fn=<AddBackward0>) Номер хода нейронки 1 , Победитель 1 tensor(15.) 22\n",
            "11251 tensor(9.6545, grad_fn=<AddBackward0>) Номер хода нейронки 2 , Победитель 2 tensor(15.) 21\n",
            "11400 tensor(39.0120, grad_fn=<AddBackward0>) Номер хода нейронки 1 , Победитель 1 tensor(15.) 24\n",
            "11401 tensor(4.1626, grad_fn=<AddBackward0>) Номер хода нейронки 2 , Победитель 1 tensor(-7.) 27\n",
            "11550 tensor(10.6633, grad_fn=<AddBackward0>) Номер хода нейронки 1 , Победитель 1 tensor(15.) 17\n",
            "11551 tensor(13.0836, grad_fn=<AddBackward0>) Номер хода нейронки 2 , Победитель 2 tensor(15.) 38\n",
            "11700 tensor(27.7844, grad_fn=<AddBackward0>) Номер хода нейронки 1 , Победитель 1 tensor(15.) 21\n",
            "11701 tensor(2.0476, grad_fn=<AddBackward0>) Номер хода нейронки 2 , Победитель 2 tensor(15.) 22\n",
            "11850 tensor(4.7350, grad_fn=<AddBackward0>) Номер хода нейронки 1 , Победитель 1 tensor(15.) 22\n",
            "11851 tensor(5.4081, grad_fn=<AddBackward0>) Номер хода нейронки 2 , Победитель 2 tensor(15.) 19\n",
            "12000 tensor(21.1546, grad_fn=<AddBackward0>) Номер хода нейронки 1 , Победитель 1 tensor(15.) 13\n",
            "12001 tensor(1.9701, grad_fn=<AddBackward0>) Номер хода нейронки 2 , Победитель 2 tensor(15.) 19\n",
            "12150 tensor(-2.6281, grad_fn=<AddBackward0>) Номер хода нейронки 1 , Победитель 1 tensor(15.) 23\n",
            "12151 tensor(-7.4339, grad_fn=<AddBackward0>) Номер хода нейронки 2 , Победитель 2 tensor(15.) 38\n",
            "12300 tensor(10.6815, grad_fn=<AddBackward0>) Номер хода нейронки 1 , Победитель 1 tensor(15.) 21\n",
            "12301 tensor(1.2990, grad_fn=<AddBackward0>) Номер хода нейронки 2 , Победитель 2 tensor(15.) 20\n",
            "12450 tensor(3.6229, grad_fn=<AddBackward0>) Номер хода нейронки 1 , Победитель 1 tensor(15.) 28\n",
            "12451 tensor(39.2229, grad_fn=<AddBackward0>) Номер хода нейронки 2 , Победитель 2 tensor(15.) 17\n",
            "12600 tensor(9.6034, grad_fn=<AddBackward0>) Номер хода нейронки 1 , Победитель 1 tensor(15.) 18\n",
            "12601 tensor(-62.5615, grad_fn=<AddBackward0>) Номер хода нейронки 2 , Победитель 1 tensor(-7.) 30\n",
            "12750 tensor(0.1768, grad_fn=<AddBackward0>) Номер хода нейронки 1 , Победитель 1 tensor(15.) 11\n",
            "12751 tensor(5.1350, grad_fn=<AddBackward0>) Номер хода нейронки 2 , Победитель 2 tensor(15.) 21\n",
            "12900 tensor(7.9649, grad_fn=<AddBackward0>) Номер хода нейронки 1 , Победитель 1 tensor(15.) 17\n",
            "12901 tensor(24.3168, grad_fn=<AddBackward0>) Номер хода нейронки 2 , Победитель 2 tensor(15.) 37\n",
            "13050 tensor(41.3139, grad_fn=<AddBackward0>) Номер хода нейронки 1 , Победитель 1 tensor(15.) 18\n",
            "13051 tensor(89.0182, grad_fn=<AddBackward0>) Номер хода нейронки 2 , Победитель 2 tensor(15.) 21\n",
            "13200 tensor(0.8551, grad_fn=<AddBackward0>) Номер хода нейронки 1 , Победитель 1 tensor(15.) 26\n",
            "13201 tensor(77.7308, grad_fn=<AddBackward0>) Номер хода нейронки 2 , Победитель 2 tensor(15.) 38\n",
            "13350 tensor(2.8935, grad_fn=<AddBackward0>) Номер хода нейронки 1 , Победитель 1 tensor(15.) 14\n",
            "13351 tensor(17.6952, grad_fn=<AddBackward0>) Номер хода нейронки 2 , Победитель 2 tensor(15.) 27\n",
            "13500 tensor(14.1007, grad_fn=<AddBackward0>) Номер хода нейронки 1 , Победитель 1 tensor(15.) 22\n",
            "13501 tensor(48.1168, grad_fn=<AddBackward0>) Номер хода нейронки 2 , Победитель 2 tensor(15.) 35\n",
            "13650 tensor(19.0683, grad_fn=<AddBackward0>) Номер хода нейронки 1 , Победитель 1 tensor(15.) 21\n",
            "13651 tensor(-249.6451, grad_fn=<AddBackward0>) Номер хода нейронки 2 , Победитель 1 tensor(-7.) 30\n",
            "13800 tensor(4.0103, grad_fn=<AddBackward0>) Номер хода нейронки 1 , Победитель 1 tensor(15.) 27\n",
            "13801 tensor(14.4626, grad_fn=<AddBackward0>) Номер хода нейронки 2 , Победитель 2 tensor(15.) 32\n",
            "13950 tensor(2.5931, grad_fn=<AddBackward0>) Номер хода нейронки 1 , Победитель 1 tensor(15.) 17\n",
            "13951 tensor(14.8268, grad_fn=<AddBackward0>) Номер хода нейронки 2 , Победитель 2 tensor(15.) 24\n",
            "14100 tensor(7.1182, grad_fn=<AddBackward0>) Номер хода нейронки 1 , Победитель 0 tensor(-7.) 34\n",
            "14101 tensor(5.6237, grad_fn=<AddBackward0>) Номер хода нейронки 2 , Победитель 2 tensor(15.) 18\n",
            "14250 tensor(10.4283, grad_fn=<AddBackward0>) Номер хода нейронки 1 , Победитель 1 tensor(15.) 19\n",
            "14251 tensor(25.7427, grad_fn=<AddBackward0>) Номер хода нейронки 2 , Победитель 2 tensor(15.) 21\n",
            "14400 tensor(17.5615, grad_fn=<AddBackward0>) Номер хода нейронки 1 , Победитель 1 tensor(15.) 32\n",
            "14401 tensor(9.1003, grad_fn=<AddBackward0>) Номер хода нейронки 2 , Победитель 2 tensor(15.) 27\n",
            "14550 tensor(19.5672, grad_fn=<AddBackward0>) Номер хода нейронки 1 , Победитель 1 tensor(15.) 37\n",
            "14551 tensor(36.9170, grad_fn=<AddBackward0>) Номер хода нейронки 2 , Победитель 2 tensor(15.) 18\n",
            "14700 tensor(9.4942, grad_fn=<AddBackward0>) Номер хода нейронки 1 , Победитель 1 tensor(15.) 21\n",
            "14701 tensor(32.0434, grad_fn=<AddBackward0>) Номер хода нейронки 2 , Победитель 2 tensor(15.) 15\n",
            "14850 tensor(-8.5463, grad_fn=<AddBackward0>) Номер хода нейронки 1 , Победитель 0 tensor(-7.) 36\n",
            "14851 tensor(38.2735, grad_fn=<AddBackward0>) Номер хода нейронки 2 , Победитель 0 tensor(-7.) 40\n",
            "15000 tensor(9.8184, grad_fn=<AddBackward0>) Номер хода нейронки 1 , Победитель 2 tensor(-7.) 20\n",
            "15001 tensor(33.6222, grad_fn=<AddBackward0>) Номер хода нейронки 2 , Победитель 2 tensor(15.) 28\n",
            "15150 tensor(44.3150, grad_fn=<AddBackward0>) Номер хода нейронки 1 , Победитель 1 tensor(15.) 27\n",
            "15151 tensor(37.5458, grad_fn=<AddBackward0>) Номер хода нейронки 2 , Победитель 2 tensor(15.) 29\n",
            "15300 tensor(-3.2355, grad_fn=<AddBackward0>) Номер хода нейронки 1 , Победитель 2 tensor(-7.) 27\n",
            "15301 tensor(27.4075, grad_fn=<AddBackward0>) Номер хода нейронки 2 , Победитель 2 tensor(15.) 28\n",
            "15450 tensor(26.0836, grad_fn=<AddBackward0>) Номер хода нейронки 1 , Победитель 1 tensor(15.) 31\n",
            "15451 tensor(28.4139, grad_fn=<AddBackward0>) Номер хода нейронки 2 , Победитель 2 tensor(15.) 14\n",
            "15600 tensor(1.4032, grad_fn=<AddBackward0>) Номер хода нейронки 1 , Победитель 1 tensor(15.) 17\n",
            "15601 tensor(7.3920, grad_fn=<AddBackward0>) Номер хода нейронки 2 , Победитель 2 tensor(15.) 14\n",
            "15750 tensor(20.3811, grad_fn=<AddBackward0>) Номер хода нейронки 1 , Победитель 1 tensor(15.) 22\n",
            "15751 tensor(25.6904, grad_fn=<AddBackward0>) Номер хода нейронки 2 , Победитель 2 tensor(15.) 32\n",
            "15900 tensor(5.5342, grad_fn=<AddBackward0>) Номер хода нейронки 1 , Победитель 1 tensor(15.) 21\n",
            "15901 tensor(30.8128, grad_fn=<AddBackward0>) Номер хода нейронки 2 , Победитель 2 tensor(15.) 29\n",
            "16050 tensor(6.6811, grad_fn=<AddBackward0>) Номер хода нейронки 1 , Победитель 1 tensor(15.) 14\n",
            "16051 tensor(10.8958, grad_fn=<AddBackward0>) Номер хода нейронки 2 , Победитель 2 tensor(15.) 21\n",
            "16200 tensor(16.3914, grad_fn=<AddBackward0>) Номер хода нейронки 1 , Победитель 1 tensor(15.) 41\n",
            "16201 tensor(-18.4069, grad_fn=<AddBackward0>) Номер хода нейронки 2 , Победитель 1 tensor(-7.) 25\n",
            "16350 tensor(27.3827, grad_fn=<AddBackward0>) Номер хода нейронки 1 , Победитель 1 tensor(15.) 19\n",
            "16351 tensor(25.5232, grad_fn=<AddBackward0>) Номер хода нейронки 2 , Победитель 2 tensor(15.) 24\n",
            "16500 tensor(3.9907, grad_fn=<AddBackward0>) Номер хода нейронки 1 , Победитель 1 tensor(15.) 31\n",
            "16501 tensor(51.8767, grad_fn=<AddBackward0>) Номер хода нейронки 2 , Победитель 2 tensor(15.) 22\n",
            "16650 tensor(3.6290, grad_fn=<AddBackward0>) Номер хода нейронки 1 , Победитель 1 tensor(15.) 29\n",
            "16651 tensor(15.1038, grad_fn=<AddBackward0>) Номер хода нейронки 2 , Победитель 2 tensor(15.) 21\n",
            "16800 tensor(2.5021, grad_fn=<AddBackward0>) Номер хода нейронки 1 , Победитель 2 tensor(-7.) 34\n",
            "16801 tensor(1.0110, grad_fn=<AddBackward0>) Номер хода нейронки 2 , Победитель 0 tensor(-7.) 30\n",
            "16950 tensor(38.7147, grad_fn=<AddBackward0>) Номер хода нейронки 1 , Победитель 1 tensor(15.) 30\n",
            "16951 tensor(4.8718, grad_fn=<AddBackward0>) Номер хода нейронки 2 , Победитель 2 tensor(15.) 27\n",
            "17100 tensor(14.1717, grad_fn=<AddBackward0>) Номер хода нейронки 1 , Победитель 1 tensor(15.) 30\n",
            "17101 tensor(11.9544, grad_fn=<AddBackward0>) Номер хода нейронки 2 , Победитель 2 tensor(15.) 32\n",
            "17250 tensor(-12.4064, grad_fn=<AddBackward0>) Номер хода нейронки 1 , Победитель 2 tensor(-7.) 29\n",
            "17251 tensor(3.3975, grad_fn=<AddBackward0>) Номер хода нейронки 2 , Победитель 2 tensor(15.) 21\n",
            "17400 tensor(1.5584, grad_fn=<AddBackward0>) Номер хода нейронки 1 , Победитель 1 tensor(15.) 10\n",
            "17401 tensor(51.3914, grad_fn=<AddBackward0>) Номер хода нейронки 2 , Победитель 2 tensor(15.) 27\n",
            "17550 tensor(7.6529, grad_fn=<AddBackward0>) Номер хода нейронки 1 , Победитель 1 tensor(15.) 14\n",
            "17551 tensor(3.7115, grad_fn=<AddBackward0>) Номер хода нейронки 2 , Победитель 2 tensor(15.) 19\n",
            "17700 tensor(11.3410, grad_fn=<AddBackward0>) Номер хода нейронки 1 , Победитель 1 tensor(15.) 28\n",
            "17701 tensor(23.9565, grad_fn=<AddBackward0>) Номер хода нейронки 2 , Победитель 2 tensor(15.) 32\n",
            "17850 tensor(27.9844, grad_fn=<AddBackward0>) Номер хода нейронки 1 , Победитель 1 tensor(15.) 24\n",
            "17851 tensor(10.5016, grad_fn=<AddBackward0>) Номер хода нейронки 2 , Победитель 2 tensor(15.) 16\n",
            "18000 tensor(5.9000, grad_fn=<AddBackward0>) Номер хода нейронки 1 , Победитель 1 tensor(15.) 29\n",
            "18001 tensor(61.8405, grad_fn=<AddBackward0>) Номер хода нейронки 2 , Победитель 2 tensor(15.) 30\n",
            "18150 tensor(25.5333, grad_fn=<AddBackward0>) Номер хода нейронки 1 , Победитель 1 tensor(15.) 37\n",
            "18151 tensor(9.8481, grad_fn=<AddBackward0>) Номер хода нейронки 2 , Победитель 2 tensor(15.) 27\n",
            "18300 tensor(6.9218, grad_fn=<AddBackward0>) Номер хода нейронки 1 , Победитель 2 tensor(-7.) 30\n",
            "18301 tensor(110.4699, grad_fn=<AddBackward0>) Номер хода нейронки 2 , Победитель 2 tensor(15.) 24\n",
            "18450 tensor(56.6493, grad_fn=<AddBackward0>) Номер хода нейронки 1 , Победитель 1 tensor(15.) 20\n",
            "18451 tensor(33.6577, grad_fn=<AddBackward0>) Номер хода нейронки 2 , Победитель 2 tensor(15.) 42\n",
            "18600 tensor(33.1221, grad_fn=<AddBackward0>) Номер хода нейронки 1 , Победитель 1 tensor(15.) 29\n",
            "18601 tensor(68.9374, grad_fn=<AddBackward0>) Номер хода нейронки 2 , Победитель 2 tensor(15.) 20\n",
            "18750 tensor(3.2750, grad_fn=<AddBackward0>) Номер хода нейронки 1 , Победитель 1 tensor(15.) 22\n",
            "18751 tensor(1.2338, grad_fn=<AddBackward0>) Номер хода нейронки 2 , Победитель 2 tensor(15.) 15\n",
            "18900 tensor(74.0742, grad_fn=<AddBackward0>) Номер хода нейронки 1 , Победитель 1 tensor(15.) 30\n",
            "18901 tensor(3.6535, grad_fn=<AddBackward0>) Номер хода нейронки 2 , Победитель 0 tensor(-7.) 28\n",
            "19050 tensor(0.0997, grad_fn=<AddBackward0>) Номер хода нейронки 1 , Победитель 1 tensor(15.) 9\n",
            "19051 tensor(166.6255, grad_fn=<AddBackward0>) Номер хода нейронки 2 , Победитель 2 tensor(15.) 17\n",
            "19200 tensor(46.1273, grad_fn=<AddBackward0>) Номер хода нейронки 1 , Победитель 1 tensor(15.) 25\n",
            "19201 tensor(6.0062, grad_fn=<AddBackward0>) Номер хода нейронки 2 , Победитель 2 tensor(15.) 26\n",
            "19350 tensor(169.6303, grad_fn=<AddBackward0>) Номер хода нейронки 1 , Победитель 1 tensor(15.) 20\n",
            "19351 tensor(1.0757, grad_fn=<AddBackward0>) Номер хода нейронки 2 , Победитель 2 tensor(15.) 17\n",
            "19500 tensor(17.7546, grad_fn=<AddBackward0>) Номер хода нейронки 1 , Победитель 1 tensor(15.) 24\n",
            "19501 tensor(6.6055, grad_fn=<AddBackward0>) Номер хода нейронки 2 , Победитель 2 tensor(15.) 14\n",
            "19650 tensor(26.8620, grad_fn=<AddBackward0>) Номер хода нейронки 1 , Победитель 1 tensor(15.) 32\n",
            "19651 tensor(3.9570, grad_fn=<AddBackward0>) Номер хода нейронки 2 , Победитель 2 tensor(15.) 22\n",
            "19800 tensor(218.6513, grad_fn=<AddBackward0>) Номер хода нейронки 1 , Победитель 1 tensor(15.) 22\n",
            "19801 tensor(52.5835, grad_fn=<AddBackward0>) Номер хода нейронки 2 , Победитель 2 tensor(15.) 28\n",
            "19950 tensor(3.2669, grad_fn=<AddBackward0>) Номер хода нейронки 1 , Победитель 1 tensor(15.) 24\n",
            "19951 tensor(4.6485, grad_fn=<AddBackward0>) Номер хода нейронки 2 , Победитель 2 tensor(15.) 28\n",
            "20100 tensor(6.4453, grad_fn=<AddBackward0>) Номер хода нейронки 1 , Победитель 1 tensor(15.) 32\n",
            "20101 tensor(-27.4225, grad_fn=<AddBackward0>) Номер хода нейронки 2 , Победитель 0 tensor(-7.) 30\n",
            "20250 tensor(33.1051, grad_fn=<AddBackward0>) Номер хода нейронки 1 , Победитель 1 tensor(15.) 31\n",
            "20251 tensor(8.2339, grad_fn=<AddBackward0>) Номер хода нейронки 2 , Победитель 2 tensor(15.) 39\n",
            "20400 tensor(22.8225, grad_fn=<AddBackward0>) Номер хода нейронки 1 , Победитель 1 tensor(15.) 25\n",
            "20401 tensor(34.0905, grad_fn=<AddBackward0>) Номер хода нейронки 2 , Победитель 2 tensor(15.) 23\n",
            "20550 tensor(31.9836, grad_fn=<AddBackward0>) Номер хода нейронки 1 , Победитель 1 tensor(15.) 20\n",
            "20551 tensor(84.9318, grad_fn=<AddBackward0>) Номер хода нейронки 2 , Победитель 2 tensor(15.) 25\n",
            "20700 tensor(50.4090, grad_fn=<AddBackward0>) Номер хода нейронки 1 , Победитель 1 tensor(15.) 24\n",
            "20701 tensor(12.9732, grad_fn=<AddBackward0>) Номер хода нейронки 2 , Победитель 2 tensor(15.) 26\n",
            "20850 tensor(-1.1764, grad_fn=<AddBackward0>) Номер хода нейронки 1 , Победитель 1 tensor(15.) 30\n",
            "20851 tensor(13.9105, grad_fn=<AddBackward0>) Номер хода нейронки 2 , Победитель 2 tensor(15.) 24\n",
            "21000 tensor(0.0856, grad_fn=<AddBackward0>) Номер хода нейронки 1 , Победитель 1 tensor(15.) 20\n",
            "21001 tensor(-2.9168, grad_fn=<AddBackward0>) Номер хода нейронки 2 , Победитель 2 tensor(15.) 28\n",
            "21150 tensor(6.6502, grad_fn=<AddBackward0>) Номер хода нейронки 1 , Победитель 1 tensor(15.) 29\n",
            "21151 tensor(135.2195, grad_fn=<AddBackward0>) Номер хода нейронки 2 , Победитель 2 tensor(15.) 27\n",
            "21300 tensor(24.9948, grad_fn=<AddBackward0>) Номер хода нейронки 1 , Победитель 1 tensor(15.) 31\n",
            "21301 tensor(3.3929, grad_fn=<AddBackward0>) Номер хода нейронки 2 , Победитель 2 tensor(15.) 30\n",
            "21450 tensor(16.9499, grad_fn=<AddBackward0>) Номер хода нейронки 1 , Победитель 1 tensor(15.) 22\n",
            "21451 tensor(5.7466, grad_fn=<AddBackward0>) Номер хода нейронки 2 , Победитель 2 tensor(15.) 25\n",
            "21600 tensor(25.9598, grad_fn=<AddBackward0>) Номер хода нейронки 1 , Победитель 1 tensor(15.) 25\n",
            "21601 tensor(24.9533, grad_fn=<AddBackward0>) Номер хода нейронки 2 , Победитель 2 tensor(15.) 18\n",
            "21750 tensor(-3.8343, grad_fn=<AddBackward0>) Номер хода нейронки 1 , Победитель 0 tensor(-7.) 25\n",
            "21751 tensor(5.6308, grad_fn=<AddBackward0>) Номер хода нейронки 2 , Победитель 2 tensor(15.) 19\n",
            "21900 tensor(61.6037, grad_fn=<AddBackward0>) Номер хода нейронки 1 , Победитель 1 tensor(15.) 21\n",
            "21901 tensor(18.5407, grad_fn=<AddBackward0>) Номер хода нейронки 2 , Победитель 2 tensor(15.) 24\n",
            "22050 tensor(-23.8220, grad_fn=<AddBackward0>) Номер хода нейронки 1 , Победитель 1 tensor(15.) 24\n",
            "22051 tensor(9.3306, grad_fn=<AddBackward0>) Номер хода нейронки 2 , Победитель 2 tensor(15.) 33\n",
            "22200 tensor(39.6895, grad_fn=<AddBackward0>) Номер хода нейронки 1 , Победитель 1 tensor(15.) 17\n",
            "22201 tensor(14.7214, grad_fn=<AddBackward0>) Номер хода нейронки 2 , Победитель 2 tensor(15.) 26\n",
            "22350 tensor(12.7828, grad_fn=<AddBackward0>) Номер хода нейронки 1 , Победитель 1 tensor(15.) 20\n",
            "22351 tensor(159.0099, grad_fn=<AddBackward0>) Номер хода нейронки 2 , Победитель 2 tensor(15.) 19\n",
            "22500 tensor(16.1449, grad_fn=<AddBackward0>) Номер хода нейронки 1 , Победитель 0 tensor(-7.) 33\n",
            "22501 tensor(21.6278, grad_fn=<AddBackward0>) Номер хода нейронки 2 , Победитель 2 tensor(15.) 33\n",
            "22650 tensor(19.7331, grad_fn=<AddBackward0>) Номер хода нейронки 1 , Победитель 1 tensor(15.) 37\n",
            "22651 tensor(-7.2972, grad_fn=<AddBackward0>) Номер хода нейронки 2 , Победитель 1 tensor(-7.) 32\n",
            "22800 tensor(15.9416, grad_fn=<AddBackward0>) Номер хода нейронки 1 , Победитель 0 tensor(-7.) 31\n",
            "22801 tensor(9.6704, grad_fn=<AddBackward0>) Номер хода нейронки 2 , Победитель 2 tensor(15.) 27\n",
            "22950 tensor(22.4774, grad_fn=<AddBackward0>) Номер хода нейронки 1 , Победитель 1 tensor(15.) 22\n",
            "22951 tensor(5.2719, grad_fn=<AddBackward0>) Номер хода нейронки 2 , Победитель 1 tensor(-7.) 17\n",
            "23100 tensor(34.3769, grad_fn=<AddBackward0>) Номер хода нейронки 1 , Победитель 1 tensor(15.) 32\n",
            "23101 tensor(47.8771, grad_fn=<AddBackward0>) Номер хода нейронки 2 , Победитель 2 tensor(15.) 35\n",
            "23250 tensor(59.8620, grad_fn=<AddBackward0>) Номер хода нейронки 1 , Победитель 1 tensor(15.) 20\n",
            "23251 tensor(25.4664, grad_fn=<AddBackward0>) Номер хода нейронки 2 , Победитель 2 tensor(15.) 18\n",
            "23400 tensor(24.0157, grad_fn=<AddBackward0>) Номер хода нейронки 1 , Победитель 1 tensor(15.) 28\n",
            "23401 tensor(-1.4864, grad_fn=<AddBackward0>) Номер хода нейронки 2 , Победитель 1 tensor(-7.) 44\n",
            "23550 tensor(0.7763, grad_fn=<AddBackward0>) Номер хода нейронки 1 , Победитель 1 tensor(15.) 33\n",
            "23551 tensor(11.6267, grad_fn=<AddBackward0>) Номер хода нейронки 2 , Победитель 2 tensor(15.) 42\n",
            "23700 tensor(15.7394, grad_fn=<AddBackward0>) Номер хода нейронки 1 , Победитель 1 tensor(15.) 20\n",
            "23701 tensor(4.0021, grad_fn=<AddBackward0>) Номер хода нейронки 2 , Победитель 2 tensor(15.) 20\n",
            "23850 tensor(28.2173, grad_fn=<AddBackward0>) Номер хода нейронки 1 , Победитель 1 tensor(15.) 24\n",
            "23851 tensor(140.8122, grad_fn=<AddBackward0>) Номер хода нейронки 2 , Победитель 2 tensor(15.) 22\n",
            "24000 tensor(3.3265, grad_fn=<AddBackward0>) Номер хода нейронки 1 , Победитель 1 tensor(15.) 29\n",
            "24001 tensor(137.0792, grad_fn=<AddBackward0>) Номер хода нейронки 2 , Победитель 2 tensor(15.) 30\n",
            "24150 tensor(-11.9128, grad_fn=<AddBackward0>) Номер хода нейронки 1 , Победитель 2 tensor(-7.) 22\n",
            "24151 tensor(36.7768, grad_fn=<AddBackward0>) Номер хода нейронки 2 , Победитель 2 tensor(15.) 25\n",
            "24300 tensor(13.0596, grad_fn=<AddBackward0>) Номер хода нейронки 1 , Победитель 1 tensor(15.) 33\n",
            "24301 tensor(19.3710, grad_fn=<AddBackward0>) Номер хода нейронки 2 , Победитель 2 tensor(15.) 13\n",
            "24450 tensor(-0.1369, grad_fn=<AddBackward0>) Номер хода нейронки 1 , Победитель 2 tensor(-7.) 15\n",
            "24451 tensor(27.3247, grad_fn=<AddBackward0>) Номер хода нейронки 2 , Победитель 2 tensor(15.) 26\n",
            "24600 tensor(69.3434, grad_fn=<AddBackward0>) Номер хода нейронки 1 , Победитель 1 tensor(15.) 32\n",
            "24601 tensor(-0.0654, grad_fn=<AddBackward0>) Номер хода нейронки 2 , Победитель 1 tensor(-7.) 14\n",
            "24750 tensor(70.7295, grad_fn=<AddBackward0>) Номер хода нейронки 1 , Победитель 1 tensor(15.) 28\n",
            "24751 tensor(3.5403, grad_fn=<AddBackward0>) Номер хода нейронки 2 , Победитель 2 tensor(15.) 19\n",
            "24900 tensor(8.5390, grad_fn=<AddBackward0>) Номер хода нейронки 1 , Победитель 1 tensor(15.) 25\n",
            "24901 tensor(5.7714, grad_fn=<AddBackward0>) Номер хода нейронки 2 , Победитель 2 tensor(15.) 25\n",
            "25050 tensor(29.0724, grad_fn=<AddBackward0>) Номер хода нейронки 1 , Победитель 1 tensor(15.) 28\n",
            "25051 tensor(-2.7267, grad_fn=<AddBackward0>) Номер хода нейронки 2 , Победитель 2 tensor(15.) 28\n",
            "25200 tensor(5.9524, grad_fn=<AddBackward0>) Номер хода нейронки 1 , Победитель 1 tensor(15.) 24\n",
            "25201 tensor(61.2675, grad_fn=<AddBackward0>) Номер хода нейронки 2 , Победитель 2 tensor(15.) 19\n",
            "25350 tensor(23.7333, grad_fn=<AddBackward0>) Номер хода нейронки 1 , Победитель 1 tensor(15.) 25\n",
            "25351 tensor(5.9660, grad_fn=<AddBackward0>) Номер хода нейронки 2 , Победитель 2 tensor(15.) 33\n",
            "25500 tensor(14.2661, grad_fn=<AddBackward0>) Номер хода нейронки 1 , Победитель 1 tensor(15.) 28\n",
            "25501 tensor(18.8119, grad_fn=<AddBackward0>) Номер хода нейронки 2 , Победитель 2 tensor(15.) 26\n",
            "25650 tensor(9.0136, grad_fn=<AddBackward0>) Номер хода нейронки 1 , Победитель 1 tensor(15.) 24\n",
            "25651 tensor(-4.3605, grad_fn=<AddBackward0>) Номер хода нейронки 2 , Победитель 2 tensor(15.) 27\n",
            "25800 tensor(47.3124, grad_fn=<AddBackward0>) Номер хода нейронки 1 , Победитель 2 tensor(-7.) 35\n",
            "25801 tensor(3.0411, grad_fn=<AddBackward0>) Номер хода нейронки 2 , Победитель 2 tensor(15.) 17\n",
            "25950 tensor(35.2683, grad_fn=<AddBackward0>) Номер хода нейронки 1 , Победитель 1 tensor(15.) 24\n",
            "25951 tensor(22.8307, grad_fn=<AddBackward0>) Номер хода нейронки 2 , Победитель 2 tensor(15.) 24\n",
            "26100 tensor(12.1751, grad_fn=<AddBackward0>) Номер хода нейронки 1 , Победитель 2 tensor(-7.) 33\n",
            "26101 tensor(2.2393, grad_fn=<AddBackward0>) Номер хода нейронки 2 , Победитель 2 tensor(15.) 26\n",
            "26250 tensor(24.8869, grad_fn=<AddBackward0>) Номер хода нейронки 1 , Победитель 1 tensor(15.) 34\n",
            "26251 tensor(6.1252, grad_fn=<AddBackward0>) Номер хода нейронки 2 , Победитель 2 tensor(15.) 31\n",
            "26400 tensor(63.4475, grad_fn=<AddBackward0>) Номер хода нейронки 1 , Победитель 1 tensor(15.) 38\n",
            "26401 tensor(18.9464, grad_fn=<AddBackward0>) Номер хода нейронки 2 , Победитель 2 tensor(15.) 31\n",
            "26550 tensor(21.4506, grad_fn=<AddBackward0>) Номер хода нейронки 1 , Победитель 1 tensor(15.) 27\n",
            "26551 tensor(7.7397, grad_fn=<AddBackward0>) Номер хода нейронки 2 , Победитель 2 tensor(15.) 23\n",
            "26700 tensor(-3.4365, grad_fn=<AddBackward0>) Номер хода нейронки 1 , Победитель 2 tensor(-7.) 25\n",
            "26701 tensor(0.8518, grad_fn=<AddBackward0>) Номер хода нейронки 2 , Победитель 2 tensor(15.) 14\n",
            "26850 tensor(26.2192, grad_fn=<AddBackward0>) Номер хода нейронки 1 , Победитель 1 tensor(15.) 32\n",
            "26851 tensor(69.0221, grad_fn=<AddBackward0>) Номер хода нейронки 2 , Победитель 2 tensor(15.) 18\n",
            "27000 tensor(31.5977, grad_fn=<AddBackward0>) Номер хода нейронки 1 , Победитель 1 tensor(15.) 16\n",
            "27001 tensor(7.6327, grad_fn=<AddBackward0>) Номер хода нейронки 2 , Победитель 2 tensor(15.) 40\n",
            "27150 tensor(-22.8479, grad_fn=<AddBackward0>) Номер хода нейронки 1 , Победитель 0 tensor(-7.) 30\n",
            "27151 tensor(11.6234, grad_fn=<AddBackward0>) Номер хода нейронки 2 , Победитель 2 tensor(15.) 19\n",
            "27300 tensor(28.8318, grad_fn=<AddBackward0>) Номер хода нейронки 1 , Победитель 1 tensor(15.) 35\n",
            "27301 tensor(360.2393, grad_fn=<AddBackward0>) Номер хода нейронки 2 , Победитель 2 tensor(15.) 17\n",
            "27450 tensor(50.1106, grad_fn=<AddBackward0>) Номер хода нейронки 1 , Победитель 1 tensor(15.) 32\n",
            "27451 tensor(11.9718, grad_fn=<AddBackward0>) Номер хода нейронки 2 , Победитель 2 tensor(15.) 23\n",
            "27600 tensor(-10.0203, grad_fn=<AddBackward0>) Номер хода нейронки 1 , Победитель 1 tensor(15.) 32\n",
            "27601 tensor(26.1708, grad_fn=<AddBackward0>) Номер хода нейронки 2 , Победитель 2 tensor(15.) 26\n",
            "27750 tensor(4.0041, grad_fn=<AddBackward0>) Номер хода нейронки 1 , Победитель 1 tensor(15.) 18\n",
            "27751 tensor(19.5929, grad_fn=<AddBackward0>) Номер хода нейронки 2 , Победитель 2 tensor(15.) 23\n",
            "27900 tensor(39.0161, grad_fn=<AddBackward0>) Номер хода нейронки 1 , Победитель 1 tensor(15.) 38\n",
            "27901 tensor(5.8522, grad_fn=<AddBackward0>) Номер хода нейронки 2 , Победитель 1 tensor(-7.) 27\n",
            "28050 tensor(-2.4843, grad_fn=<AddBackward0>) Номер хода нейронки 1 , Победитель 2 tensor(-7.) 19\n",
            "28051 tensor(6.4459, grad_fn=<AddBackward0>) Номер хода нейронки 2 , Победитель 2 tensor(15.) 13\n",
            "28200 tensor(12.3820, grad_fn=<AddBackward0>) Номер хода нейронки 1 , Победитель 1 tensor(15.) 24\n",
            "28201 tensor(30.8747, grad_fn=<AddBackward0>) Номер хода нейронки 2 , Победитель 2 tensor(15.) 28\n",
            "28350 tensor(10.5829, grad_fn=<AddBackward0>) Номер хода нейронки 1 , Победитель 2 tensor(-7.) 49\n",
            "28351 tensor(3.4345, grad_fn=<AddBackward0>) Номер хода нейронки 2 , Победитель 2 tensor(15.) 21\n",
            "28500 tensor(79.1795, grad_fn=<AddBackward0>) Номер хода нейронки 1 , Победитель 1 tensor(15.) 26\n",
            "28501 tensor(6.6829, grad_fn=<AddBackward0>) Номер хода нейронки 2 , Победитель 0 tensor(-7.) 37\n",
            "28650 tensor(23.5616, grad_fn=<AddBackward0>) Номер хода нейронки 1 , Победитель 1 tensor(15.) 29\n",
            "28651 tensor(29.8730, grad_fn=<AddBackward0>) Номер хода нейронки 2 , Победитель 2 tensor(15.) 24\n",
            "28800 tensor(3.4209, grad_fn=<AddBackward0>) Номер хода нейронки 1 , Победитель 1 tensor(15.) 20\n",
            "28801 tensor(0.4056, grad_fn=<AddBackward0>) Номер хода нейронки 2 , Победитель 2 tensor(15.) 15\n",
            "28950 tensor(4.4675, grad_fn=<AddBackward0>) Номер хода нейронки 1 , Победитель 1 tensor(15.) 13\n",
            "28951 tensor(15.8902, grad_fn=<AddBackward0>) Номер хода нейронки 2 , Победитель 2 tensor(15.) 17\n",
            "29100 tensor(2.8646, grad_fn=<AddBackward0>) Номер хода нейронки 1 , Победитель 1 tensor(15.) 17\n",
            "29101 tensor(65.5172, grad_fn=<AddBackward0>) Номер хода нейронки 2 , Победитель 2 tensor(15.) 34\n",
            "29250 tensor(9.5614, grad_fn=<AddBackward0>) Номер хода нейронки 1 , Победитель 1 tensor(15.) 21\n",
            "29251 tensor(10.1609, grad_fn=<AddBackward0>) Номер хода нейронки 2 , Победитель 2 tensor(15.) 25\n",
            "29400 tensor(9.3645, grad_fn=<AddBackward0>) Номер хода нейронки 1 , Победитель 1 tensor(15.) 16\n",
            "29401 tensor(70.9959, grad_fn=<AddBackward0>) Номер хода нейронки 2 , Победитель 2 tensor(15.) 30\n",
            "29550 tensor(-1.3802, grad_fn=<AddBackward0>) Номер хода нейронки 1 , Победитель 0 tensor(-7.) 24\n",
            "29551 tensor(-5.7813, grad_fn=<AddBackward0>) Номер хода нейронки 2 , Победитель 1 tensor(-7.) 29\n",
            "29700 tensor(0.9321, grad_fn=<AddBackward0>) Номер хода нейронки 1 , Победитель 1 tensor(15.) 24\n",
            "29701 tensor(70.2178, grad_fn=<AddBackward0>) Номер хода нейронки 2 , Победитель 2 tensor(15.) 22\n",
            "29850 tensor(9.5841, grad_fn=<AddBackward0>) Номер хода нейронки 1 , Победитель 1 tensor(15.) 13\n",
            "29851 tensor(21.8347, grad_fn=<AddBackward0>) Номер хода нейронки 2 , Победитель 2 tensor(15.) 36\n",
            "30000 tensor(-4.1309, grad_fn=<AddBackward0>) Номер хода нейронки 1 , Победитель 1 tensor(15.) 32\n",
            "30001 tensor(1.5313, grad_fn=<AddBackward0>) Номер хода нейронки 2 , Победитель 2 tensor(15.) 24\n",
            "30150 tensor(9.2120, grad_fn=<AddBackward0>) Номер хода нейронки 1 , Победитель 1 tensor(15.) 23\n",
            "30151 tensor(8.0083, grad_fn=<AddBackward0>) Номер хода нейронки 2 , Победитель 1 tensor(-7.) 36\n",
            "30300 tensor(119.9397, grad_fn=<AddBackward0>) Номер хода нейронки 1 , Победитель 1 tensor(15.) 26\n",
            "30301 tensor(-8.4279, grad_fn=<AddBackward0>) Номер хода нейронки 2 , Победитель 1 tensor(-7.) 27\n",
            "30450 tensor(-9.8787, grad_fn=<AddBackward0>) Номер хода нейронки 1 , Победитель 0 tensor(-7.) 35\n",
            "30451 tensor(50.4939, grad_fn=<AddBackward0>) Номер хода нейронки 2 , Победитель 2 tensor(15.) 26\n",
            "30600 tensor(66.2232, grad_fn=<AddBackward0>) Номер хода нейронки 1 , Победитель 1 tensor(15.) 24\n",
            "30601 tensor(14.4944, grad_fn=<AddBackward0>) Номер хода нейронки 2 , Победитель 1 tensor(-7.) 29\n",
            "30750 tensor(26.9077, grad_fn=<AddBackward0>) Номер хода нейронки 1 , Победитель 1 tensor(15.) 40\n",
            "30751 tensor(32.8886, grad_fn=<AddBackward0>) Номер хода нейронки 2 , Победитель 2 tensor(15.) 30\n",
            "30900 tensor(11.0420, grad_fn=<AddBackward0>) Номер хода нейронки 1 , Победитель 2 tensor(-7.) 19\n",
            "30901 tensor(18.7912, grad_fn=<AddBackward0>) Номер хода нейронки 2 , Победитель 2 tensor(15.) 19\n",
            "31050 tensor(80.7736, grad_fn=<AddBackward0>) Номер хода нейронки 1 , Победитель 1 tensor(15.) 26\n",
            "31051 tensor(14.8581, grad_fn=<AddBackward0>) Номер хода нейронки 2 , Победитель 2 tensor(15.) 27\n",
            "31200 tensor(11.1986, grad_fn=<AddBackward0>) Номер хода нейронки 1 , Победитель 1 tensor(15.) 43\n",
            "31201 tensor(5.0105, grad_fn=<AddBackward0>) Номер хода нейронки 2 , Победитель 1 tensor(-7.) 38\n",
            "31350 tensor(12.1119, grad_fn=<AddBackward0>) Номер хода нейронки 1 , Победитель 1 tensor(15.) 33\n",
            "31351 tensor(56.7280, grad_fn=<AddBackward0>) Номер хода нейронки 2 , Победитель 2 tensor(15.) 23\n",
            "31500 tensor(61.2225, grad_fn=<AddBackward0>) Номер хода нейронки 1 , Победитель 1 tensor(15.) 20\n",
            "31501 tensor(3.6827, grad_fn=<AddBackward0>) Номер хода нейронки 2 , Победитель 2 tensor(15.) 17\n",
            "31650 tensor(27.4215, grad_fn=<AddBackward0>) Номер хода нейронки 1 , Победитель 1 tensor(15.) 31\n",
            "31651 tensor(100.7004, grad_fn=<AddBackward0>) Номер хода нейронки 2 , Победитель 2 tensor(15.) 24\n",
            "31800 tensor(1.9417, grad_fn=<AddBackward0>) Номер хода нейронки 1 , Победитель 2 tensor(-7.) 27\n",
            "31801 tensor(10.3614, grad_fn=<AddBackward0>) Номер хода нейронки 2 , Победитель 2 tensor(15.) 27\n",
            "31950 tensor(10.8163, grad_fn=<AddBackward0>) Номер хода нейронки 1 , Победитель 1 tensor(15.) 25\n",
            "31951 tensor(13.4636, grad_fn=<AddBackward0>) Номер хода нейронки 2 , Победитель 2 tensor(15.) 10\n",
            "32100 tensor(12.1845, grad_fn=<AddBackward0>) Номер хода нейронки 1 , Победитель 1 tensor(15.) 38\n",
            "32101 tensor(45.2065, grad_fn=<AddBackward0>) Номер хода нейронки 2 , Победитель 2 tensor(15.) 26\n",
            "32250 tensor(73.7875, grad_fn=<AddBackward0>) Номер хода нейронки 1 , Победитель 1 tensor(15.) 40\n",
            "32251 tensor(41.7319, grad_fn=<AddBackward0>) Номер хода нейронки 2 , Победитель 2 tensor(15.) 51\n",
            "32400 tensor(81.6540, grad_fn=<AddBackward0>) Номер хода нейронки 1 , Победитель 1 tensor(15.) 25\n",
            "32401 tensor(67.3427, grad_fn=<AddBackward0>) Номер хода нейронки 2 , Победитель 2 tensor(15.) 21\n",
            "32550 tensor(8.4529, grad_fn=<AddBackward0>) Номер хода нейронки 1 , Победитель 1 tensor(15.) 28\n",
            "32551 tensor(1.3021, grad_fn=<AddBackward0>) Номер хода нейронки 2 , Победитель 2 tensor(15.) 8\n",
            "32700 tensor(8.4283, grad_fn=<AddBackward0>) Номер хода нейронки 1 , Победитель 1 tensor(15.) 14\n",
            "32701 tensor(20.7815, grad_fn=<AddBackward0>) Номер хода нейронки 2 , Победитель 2 tensor(15.) 24\n",
            "32850 tensor(30.5070, grad_fn=<AddBackward0>) Номер хода нейронки 1 , Победитель 1 tensor(15.) 24\n",
            "32851 tensor(2.1275, grad_fn=<AddBackward0>) Номер хода нейронки 2 , Победитель 2 tensor(15.) 19\n",
            "33000 tensor(41.7537, grad_fn=<AddBackward0>) Номер хода нейронки 1 , Победитель 1 tensor(15.) 24\n",
            "33001 tensor(18.0031, grad_fn=<AddBackward0>) Номер хода нейронки 2 , Победитель 2 tensor(15.) 35\n",
            "33150 tensor(51.5218, grad_fn=<AddBackward0>) Номер хода нейронки 1 , Победитель 1 tensor(15.) 15\n",
            "33151 tensor(16.1459, grad_fn=<AddBackward0>) Номер хода нейронки 2 , Победитель 2 tensor(15.) 23\n",
            "33300 tensor(53.6588, grad_fn=<AddBackward0>) Номер хода нейронки 1 , Победитель 1 tensor(15.) 18\n",
            "33301 tensor(3.0944, grad_fn=<AddBackward0>) Номер хода нейронки 2 , Победитель 2 tensor(15.) 14\n",
            "33450 tensor(3.4255, grad_fn=<AddBackward0>) Номер хода нейронки 1 , Победитель 1 tensor(15.) 14\n",
            "33451 tensor(50.8767, grad_fn=<AddBackward0>) Номер хода нейронки 2 , Победитель 2 tensor(15.) 38\n",
            "33600 tensor(29.0333, grad_fn=<AddBackward0>) Номер хода нейронки 1 , Победитель 1 tensor(15.) 27\n",
            "33601 tensor(23.7271, grad_fn=<AddBackward0>) Номер хода нейронки 2 , Победитель 2 tensor(15.) 32\n",
            "33750 tensor(-217.9776, grad_fn=<AddBackward0>) Номер хода нейронки 1 , Победитель 1 tensor(15.) 43\n",
            "33751 tensor(36.1942, grad_fn=<AddBackward0>) Номер хода нейронки 2 , Победитель 2 tensor(15.) 37\n",
            "33900 tensor(9.5676, grad_fn=<AddBackward0>) Номер хода нейронки 1 , Победитель 1 tensor(15.) 18\n",
            "33901 tensor(8.8253, grad_fn=<AddBackward0>) Номер хода нейронки 2 , Победитель 2 tensor(15.) 14\n",
            "34050 tensor(-1.5382, grad_fn=<AddBackward0>) Номер хода нейронки 1 , Победитель 1 tensor(15.) 37\n",
            "34051 tensor(20.7592, grad_fn=<AddBackward0>) Номер хода нейронки 2 , Победитель 2 tensor(15.) 22\n",
            "34200 tensor(18.7714, grad_fn=<AddBackward0>) Номер хода нейронки 1 , Победитель 1 tensor(15.) 24\n",
            "34201 tensor(30.1624, grad_fn=<AddBackward0>) Номер хода нейронки 2 , Победитель 2 tensor(15.) 26\n",
            "34350 tensor(108.8995, grad_fn=<AddBackward0>) Номер хода нейронки 1 , Победитель 1 tensor(15.) 34\n",
            "34351 tensor(1.8489, grad_fn=<AddBackward0>) Номер хода нейронки 2 , Победитель 2 tensor(15.) 30\n",
            "34500 tensor(21.2805, grad_fn=<AddBackward0>) Номер хода нейронки 1 , Победитель 1 tensor(15.) 41\n",
            "34501 tensor(43.8648, grad_fn=<AddBackward0>) Номер хода нейронки 2 , Победитель 2 tensor(15.) 41\n",
            "34650 tensor(1.8347, grad_fn=<AddBackward0>) Номер хода нейронки 1 , Победитель 1 tensor(15.) 42\n",
            "34651 tensor(110.8000, grad_fn=<AddBackward0>) Номер хода нейронки 2 , Победитель 2 tensor(15.) 22\n",
            "34800 tensor(8.8354, grad_fn=<AddBackward0>) Номер хода нейронки 1 , Победитель 1 tensor(15.) 29\n",
            "34801 tensor(7.0812, grad_fn=<AddBackward0>) Номер хода нейронки 2 , Победитель 2 tensor(15.) 30\n",
            "34950 tensor(4.3315, grad_fn=<AddBackward0>) Номер хода нейронки 1 , Победитель 1 tensor(15.) 18\n",
            "34951 tensor(25.4491, grad_fn=<AddBackward0>) Номер хода нейронки 2 , Победитель 2 tensor(15.) 35\n",
            "35100 tensor(117.7733, grad_fn=<AddBackward0>) Номер хода нейронки 1 , Победитель 1 tensor(15.) 19\n",
            "35101 tensor(4.4002, grad_fn=<AddBackward0>) Номер хода нейронки 2 , Победитель 2 tensor(15.) 14\n",
            "35250 tensor(28.8364, grad_fn=<AddBackward0>) Номер хода нейронки 1 , Победитель 1 tensor(15.) 33\n",
            "35251 tensor(21.4918, grad_fn=<AddBackward0>) Номер хода нейронки 2 , Победитель 2 tensor(15.) 21\n",
            "35400 tensor(4.9226, grad_fn=<AddBackward0>) Номер хода нейронки 1 , Победитель 1 tensor(15.) 32\n",
            "35401 tensor(6.7696, grad_fn=<AddBackward0>) Номер хода нейронки 2 , Победитель 2 tensor(15.) 22\n",
            "35550 tensor(22.4430, grad_fn=<AddBackward0>) Номер хода нейронки 1 , Победитель 1 tensor(15.) 34\n",
            "35551 tensor(-23.8355, grad_fn=<AddBackward0>) Номер хода нейронки 2 , Победитель 1 tensor(-7.) 30\n",
            "35700 tensor(46.5044, grad_fn=<AddBackward0>) Номер хода нейронки 1 , Победитель 1 tensor(15.) 29\n",
            "35701 tensor(40.3792, grad_fn=<AddBackward0>) Номер хода нейронки 2 , Победитель 2 tensor(15.) 34\n",
            "35850 tensor(29.8817, grad_fn=<AddBackward0>) Номер хода нейронки 1 , Победитель 1 tensor(15.) 24\n",
            "35851 tensor(22.4257, grad_fn=<AddBackward0>) Номер хода нейронки 2 , Победитель 2 tensor(15.) 28\n",
            "36000 tensor(58.5660, grad_fn=<AddBackward0>) Номер хода нейронки 1 , Победитель 2 tensor(-7.) 33\n",
            "36001 tensor(38.4514, grad_fn=<AddBackward0>) Номер хода нейронки 2 , Победитель 2 tensor(15.) 25\n",
            "36150 tensor(19.3133, grad_fn=<AddBackward0>) Номер хода нейронки 1 , Победитель 1 tensor(15.) 26\n",
            "36151 tensor(34.1672, grad_fn=<AddBackward0>) Номер хода нейронки 2 , Победитель 2 tensor(15.) 42\n",
            "36300 tensor(3.5663, grad_fn=<AddBackward0>) Номер хода нейронки 1 , Победитель 2 tensor(-7.) 31\n",
            "36301 tensor(5.7480, grad_fn=<AddBackward0>) Номер хода нейронки 2 , Победитель 1 tensor(-7.) 14\n",
            "36450 tensor(8.3571, grad_fn=<AddBackward0>) Номер хода нейронки 1 , Победитель 1 tensor(15.) 23\n",
            "36451 tensor(37.0165, grad_fn=<AddBackward0>) Номер хода нейронки 2 , Победитель 2 tensor(15.) 26\n",
            "36600 tensor(16.6272, grad_fn=<AddBackward0>) Номер хода нейронки 1 , Победитель 1 tensor(15.) 41\n",
            "36601 tensor(6.5281, grad_fn=<AddBackward0>) Номер хода нейронки 2 , Победитель 1 tensor(-7.) 34\n",
            "36750 tensor(17.9620, grad_fn=<AddBackward0>) Номер хода нейронки 1 , Победитель 1 tensor(15.) 27\n",
            "36751 tensor(31.5239, grad_fn=<AddBackward0>) Номер хода нейронки 2 , Победитель 2 tensor(15.) 20\n",
            "36900 tensor(31.6112, grad_fn=<AddBackward0>) Номер хода нейронки 1 , Победитель 1 tensor(15.) 26\n",
            "36901 tensor(1.8295, grad_fn=<AddBackward0>) Номер хода нейронки 2 , Победитель 2 tensor(15.) 9\n",
            "37050 tensor(8.9983, grad_fn=<AddBackward0>) Номер хода нейронки 1 , Победитель 2 tensor(-7.) 33\n",
            "37051 tensor(-258.3889, grad_fn=<AddBackward0>) Номер хода нейронки 2 , Победитель 2 tensor(15.) 37\n",
            "37200 tensor(30.9175, grad_fn=<AddBackward0>) Номер хода нейронки 1 , Победитель 1 tensor(15.) 35\n",
            "37201 tensor(41.9384, grad_fn=<AddBackward0>) Номер хода нейронки 2 , Победитель 2 tensor(15.) 25\n",
            "37350 tensor(4.5232, grad_fn=<AddBackward0>) Номер хода нейронки 1 , Победитель 1 tensor(15.) 23\n",
            "37351 tensor(2.5848, grad_fn=<AddBackward0>) Номер хода нейронки 2 , Победитель 2 tensor(15.) 21\n",
            "37500 tensor(37.1742, grad_fn=<AddBackward0>) Номер хода нейронки 1 , Победитель 1 tensor(15.) 33\n",
            "37501 tensor(54.1172, grad_fn=<AddBackward0>) Номер хода нейронки 2 , Победитель 2 tensor(15.) 33\n",
            "37650 tensor(103.4740, grad_fn=<AddBackward0>) Номер хода нейронки 1 , Победитель 1 tensor(15.) 32\n",
            "37651 tensor(11.4454, grad_fn=<AddBackward0>) Номер хода нейронки 2 , Победитель 2 tensor(15.) 23\n",
            "37800 tensor(6.6353, grad_fn=<AddBackward0>) Номер хода нейронки 1 , Победитель 1 tensor(15.) 28\n",
            "37801 tensor(67.6296, grad_fn=<AddBackward0>) Номер хода нейронки 2 , Победитель 2 tensor(15.) 33\n",
            "37950 tensor(17.3255, grad_fn=<AddBackward0>) Номер хода нейронки 1 , Победитель 1 tensor(15.) 22\n",
            "37951 tensor(28.1184, grad_fn=<AddBackward0>) Номер хода нейронки 2 , Победитель 2 tensor(15.) 22\n",
            "38100 tensor(64.2779, grad_fn=<AddBackward0>) Номер хода нейронки 1 , Победитель 1 tensor(15.) 28\n",
            "38101 tensor(-7.0877, grad_fn=<AddBackward0>) Номер хода нейронки 2 , Победитель 1 tensor(-7.) 31\n",
            "38250 tensor(94.6988, grad_fn=<AddBackward0>) Номер хода нейронки 1 , Победитель 1 tensor(15.) 22\n",
            "38251 tensor(20.7110, grad_fn=<AddBackward0>) Номер хода нейронки 2 , Победитель 2 tensor(15.) 37\n",
            "38400 tensor(7.8533, grad_fn=<AddBackward0>) Номер хода нейронки 1 , Победитель 1 tensor(15.) 20\n",
            "38401 tensor(0.0749, grad_fn=<AddBackward0>) Номер хода нейронки 2 , Победитель 2 tensor(15.) 15\n",
            "38550 tensor(43.6230, grad_fn=<AddBackward0>) Номер хода нейронки 1 , Победитель 1 tensor(15.) 17\n",
            "38551 tensor(11.2759, grad_fn=<AddBackward0>) Номер хода нейронки 2 , Победитель 2 tensor(15.) 32\n",
            "38700 tensor(2.1609, grad_fn=<AddBackward0>) Номер хода нейронки 1 , Победитель 0 tensor(-7.) 39\n",
            "38701 tensor(38.2179, grad_fn=<AddBackward0>) Номер хода нейронки 2 , Победитель 0 tensor(-7.) 39\n",
            "38850 tensor(7.1029, grad_fn=<AddBackward0>) Номер хода нейронки 1 , Победитель 1 tensor(15.) 41\n",
            "38851 tensor(1.9291, grad_fn=<AddBackward0>) Номер хода нейронки 2 , Победитель 1 tensor(-7.) 33\n",
            "39000 tensor(58.7959, grad_fn=<AddBackward0>) Номер хода нейронки 1 , Победитель 1 tensor(15.) 22\n",
            "39001 tensor(31.8608, grad_fn=<AddBackward0>) Номер хода нейронки 2 , Победитель 2 tensor(15.) 24\n",
            "39150 tensor(0.1811, grad_fn=<AddBackward0>) Номер хода нейронки 1 , Победитель 1 tensor(15.) 13\n",
            "39151 tensor(12.0643, grad_fn=<AddBackward0>) Номер хода нейронки 2 , Победитель 2 tensor(15.) 25\n",
            "39300 tensor(11.1529, grad_fn=<AddBackward0>) Номер хода нейронки 1 , Победитель 1 tensor(15.) 37\n",
            "39301 tensor(9.9775, grad_fn=<AddBackward0>) Номер хода нейронки 2 , Победитель 2 tensor(15.) 18\n",
            "39450 tensor(4.0433, grad_fn=<AddBackward0>) Номер хода нейронки 1 , Победитель 1 tensor(15.) 37\n",
            "39451 tensor(-14.3891, grad_fn=<AddBackward0>) Номер хода нейронки 2 , Победитель 1 tensor(-7.) 30\n",
            "39600 tensor(3.5170, grad_fn=<AddBackward0>) Номер хода нейронки 1 , Победитель 2 tensor(-7.) 25\n",
            "39601 tensor(-17.7611, grad_fn=<AddBackward0>) Номер хода нейронки 2 , Победитель 2 tensor(15.) 38\n",
            "39750 tensor(14.8125, grad_fn=<AddBackward0>) Номер хода нейронки 1 , Победитель 1 tensor(15.) 19\n",
            "39751 tensor(143.4020, grad_fn=<AddBackward0>) Номер хода нейронки 2 , Победитель 2 tensor(15.) 23\n",
            "39900 tensor(54.1174, grad_fn=<AddBackward0>) Номер хода нейронки 1 , Победитель 1 tensor(15.) 25\n",
            "39901 tensor(5.8805, grad_fn=<AddBackward0>) Номер хода нейронки 2 , Победитель 2 tensor(15.) 25\n"
          ]
        }
      ],
      "source": [
        "game = Kalah()\n",
        "episodes_count = 40000\n",
        "neuronet_walker_queue = 1\n",
        "count_win_neuronet = 0\n",
        "count_choisen_zero = 0\n",
        "gamma = 0.85 # Регулируем от 0.9 до 1, можно меньше, если хотим больше учитывать текущий ход, а не игру в целом\n",
        "check_optim = False # Для регулировки lr\n",
        "check_optim2 = False\n",
        "# reward = rewards[0]\n",
        "for episode in range(0, episodes_count):\n",
        "    game.set_new_game() # сброс игры\n",
        "    tr = [] # массив хранения состояний всей игры [(игровое поле, действие при нем, награда за действие, объект Categorical (для лучшей работы ln))]\n",
        "\n",
        "    # Выбор хода\n",
        "    if episode % 2: #!= -1: \n",
        "        neuronet_walker_queue = 2\n",
        "        # take_step_neuronet(game)\n",
        "        take_step_bot(game)\n",
        "    else:\n",
        "        neuronet_walker_queue = 1\n",
        "\n",
        "    while not game.get_game_over():\n",
        "\n",
        "        # Выбор хода\n",
        "        probs = model(game.get_state().to(torch.float)) # Модель вернула вероятности \n",
        "        m = Categorical(probs) # Создали объект для работы с ln и выбором действий с вероятностью\n",
        "        action = m.sample() # Выбор действия согласно вероятности\n",
        "        # print(action.dtype)  \n",
        "\n",
        "        # Выбор награды и выполнение хода\n",
        "        # Сохраняем старые значения, ибо если выберет ноль, действие повторятся или нет не известно, нужно преверять\n",
        "        old_state = game.get_state().to(torch.float)\n",
        "        old_score = game.get_score_player(neuronet_walker_queue)\n",
        "        old_player_making_step = game.get_player_making_step()\n",
        "\n",
        "        # Делаем ход\n",
        "        rezult_step = game.take_step(action + 1)\n",
        "        if rezult_step == \"Куча пустая, выберите другую!\":\n",
        "            count_choisen_zero += 1\n",
        "            reward = rewards[2]\n",
        "            \n",
        "            # game.set_is_game_over(True) # Использовалась при начале обучения. Если выбрал ноль - игра окончена.\n",
        "        elif \"Хороший ход!\" in rezult_step:\n",
        "            # reward = game.get_score_player(neuronet_walker_queue) - old_score # начисления без учета выигрыша камней противника\n",
        "            reward = game.get_score_player(neuronet_walker_queue) - game.get_score_player(3 - neuronet_walker_queue) # начисление с учетом камней противника\n",
        "            # print(rezult_step)\n",
        "            if \"Дополнительный ход\" in rezult_step:\n",
        "                reward = reward + rewards[1]\n",
        "                # print(\"kek\")\n",
        "\n",
        "        # Сохраняем статистику за ход                \n",
        "        tr.append([old_state, action, reward, m])\n",
        "\n",
        "        # Ход бота/нейронки\n",
        "        if old_player_making_step != game.get_player_making_step():\n",
        "            # take_step_neuronet(game)\n",
        "            take_step_bot(game)\n",
        "\n",
        "    # Награждение за победу начисляется на последнем ходу\n",
        "    if game.get_winner() != None:\n",
        "        if neuronet_walker_queue == game.get_winner():\n",
        "            count_win_neuronet += 1\n",
        "            # rwrd = game.get_general_state()[5+neuronet_walker_queue] - game.get_general_state()[8-neuronet_walker_queue]\n",
        "        rwrd = rewards[0] if neuronet_walker_queue == game.get_winner() else -rewards[0] + 8\n",
        "        tr[-1][-2] = rwrd\n",
        "    \n",
        "    # Считаем награждения и лосс\n",
        "    loss = 0.\n",
        "    count_played_step = len(tr) # Кол-во сыгранных ходов\n",
        "    for id_current_step in range(count_played_step):\n",
        "        R = 0.\n",
        "        for id_next_step in range(id_current_step, count_played_step):\n",
        "            # R += (gamma**(id_current_step-id_next_step))*(tr[id_next_step][2] + rwrd)\n",
        "            R += (gamma**(id_next_step-id_current_step))*tr[id_next_step][2]\n",
        "            # R += (gamma**(id_current_step - id_next_step))*tr[id_next_step][2]\n",
        "        loss += loss_func(model(tr[id_current_step][0]), tr[id_current_step][1], tr[id_current_step][3], R, count_played_step)\n",
        "\n",
        "    if not check_optim and episode > 10000:\n",
        "        check_optim = True\n",
        "        for g in optimizer.param_groups:\n",
        "            g['lr'] = 1.0e-7\n",
        "        print(\"updated loss\")\n",
        "    # if not check_optim2 and episode > 50000:\n",
        "    #     check_optim2 = True\n",
        "    #     for g in optimizer.param_groups:\n",
        "    #         g['lr'] = 1.0e-5\n",
        "    #     print(\"updated loss\")\n",
        "\n",
        "    if not episode % 150 or episode %150 == 1:\n",
        "        print(episode, loss, \"Номер хода нейронки\", neuronet_walker_queue, \", Победитель\", game.get_winner(), tr[-1][-2], len(tr))\n",
        "\n",
        "    optimizer.zero_grad()\n",
        "    loss.backward()\n",
        "    optimizer.step()"
      ]
    },
    {
      "cell_type": "code",
      "execution_count": null,
      "metadata": {
        "colab": {
          "base_uri": "https://localhost:8080/"
        },
        "id": "ts5JTNDvurho",
        "outputId": "0cb71c8d-69a2-45f3-aae2-3a1197da4532"
      },
      "outputs": [
        {
          "name": "stdout",
          "output_type": "stream",
          "text": [
            "True\n",
            "176\n"
          ]
        }
      ],
      "source": [
        "print(check_optim)\n",
        "print(count_choisen_zero)"
      ]
    },
    {
      "cell_type": "code",
      "execution_count": null,
      "metadata": {
        "id": "yhTDOQlqntyy"
      },
      "outputs": [],
      "source": [
        "import pickle"
      ]
    },
    {
      "cell_type": "markdown",
      "metadata": {
        "id": "UJkvVht3urhp"
      },
      "source": [
        "**Тестирование модели**"
      ]
    },
    {
      "cell_type": "code",
      "execution_count": 55,
      "metadata": {
        "id": "BOFtoXBmurhp"
      },
      "outputs": [
        {
          "name": "stdout",
          "output_type": "stream",
          "text": [
            "0\n",
            "0.774\n"
          ]
        }
      ],
      "source": [
        "game = Kalah()\n",
        "episodes_count = 1000\n",
        "neuronet_walker_queue = 1\n",
        "count_win_neuronet = 0\n",
        "count_choisen_zero = 0\n",
        "bad_choise = []\n",
        "zero_list_state = []\n",
        "rezult_step = \"Хороший ход!\"\n",
        "\n",
        "for episode in range(0, episodes_count):\n",
        "    game.set_new_game()\n",
        "    if episode % 2:\n",
        "        # old_player_making_step = game.get_player_making_step()\n",
        "        neuronet_walker_queue = 2\n",
        "        # take_step_neuronet(game)\n",
        "        take_step_bot(game)\n",
        "    else:\n",
        "        neuronet_walker_queue = 1\n",
        "\n",
        "    while not game.get_game_over():\n",
        "\n",
        "        # Выбор хода\n",
        "        probs = model(game.get_state().to(torch.float))\n",
        "        action = probs.argmax()\n",
        "\n",
        "        while action in bad_choise:\n",
        "            probs[probs.argmax()] = 0\n",
        "            action = probs.argmax()\n",
        "\n",
        "        # Выбор награды и выполнение хода\n",
        "        reward = 0\n",
        "        old_state = game.get_state().to(torch.float)\n",
        "        old_player_making_step = game.get_player_making_step()\n",
        "\n",
        "        rezult_step = game.take_step(action + 1)\n",
        "        if rezult_step == \"Куча пустая, выберите другую!\":\n",
        "            count_choisen_zero += 1\n",
        "            # reward = bad_step_reward_stage_1\n",
        "            print(\"Neuronet took step\", game.get_player_making_step(), \"Был выбор\", action + 1, rezult_step)\n",
        "            # print(\"state:\")\n",
        "            # game.print_state()\n",
        "            print(\"Номер эпизода происшествия:\", episode)\n",
        "            bad_choise.append(action)\n",
        "        else:\n",
        "            # print(\"Ход нейросети\", action + 1, rezult_step)\n",
        "            if bad_choise != []:\n",
        "                zero_list_state.append(old_state)\n",
        "                bad_choise = []\n",
        "        # elif rezult_step == \"Хороший ход!\":\n",
        "        #     reward = good_step_reward_stage_1\n",
        "        # elif rezult_step == \"Хороший ход! Захват!\":\n",
        "        #     reward = good_step_captured_reward_stage_1\n",
        "\n",
        "        # Нейронка вместо бота\n",
        "        if old_player_making_step != game.get_player_making_step():\n",
        "            # game.print_state()\n",
        "            # take_step_neuronet(game)\n",
        "            take_step_bot(game)\n",
        "            # print(\"Ход противника\", )\n",
        "\n",
        "\n",
        "    if game.get_winner() != None:\n",
        "        if game.get_winner() != 0:\n",
        "            if neuronet_walker_queue == game.get_winner():\n",
        "                count_win_neuronet += 1\n",
        "\n",
        "    # print(\"Очередь хода нейронки\", neuronet_walker_queue)\n",
        "    # print(\"Результат:\", game.get_player_winner(), 'k', game.get_winner())\n",
        "    # print(\"Номер попытки:\", episode)\n",
        "    # print(\"Награда/Штраф:\", reward)\n",
        "\n",
        "    # print(episode)\n",
        "\n",
        "print(count_choisen_zero)\n",
        "print(count_win_neuronet/episodes_count)"
      ]
    },
    {
      "cell_type": "code",
      "execution_count": null,
      "metadata": {
        "id": "jvZDfr_Furhq"
      },
      "outputs": [],
      "source": [
        "is_save = True\n",
        "# is_save = False\n",
        "if is_save:\n",
        "    torch.save(model, work_dir+\"model5_winner_v15.pt\")"
      ]
    },
    {
      "cell_type": "markdown",
      "metadata": {
        "id": "YiqedlvilZVT"
      },
      "source": [
        "**Попытка сохранить нули в файл и на них пообучать**"
      ]
    },
    {
      "cell_type": "code",
      "execution_count": null,
      "metadata": {
        "colab": {
          "base_uri": "https://localhost:8080/",
          "height": 171
        },
        "id": "dS-cSXQRph5c",
        "outputId": "d1e971ac-c57c-4ed4-af49-c9836ea2b606"
      },
      "outputs": [
        {
          "ename": "ValueError",
          "evalue": "ignored",
          "output_type": "error",
          "traceback": [
            "\u001b[0;31m---------------------------------------------------------------------------\u001b[0m",
            "\u001b[0;31mValueError\u001b[0m                                Traceback (most recent call last)",
            "\u001b[0;32m<ipython-input-16-acdc257763af>\u001b[0m in \u001b[0;36m<module>\u001b[0;34m\u001b[0m\n\u001b[0;32m----> 1\u001b[0;31m \u001b[0mprint\u001b[0m\u001b[0;34m(\u001b[0m\u001b[0mlen\u001b[0m\u001b[0;34m(\u001b[0m\u001b[0mtorch\u001b[0m\u001b[0;34m.\u001b[0m\u001b[0munique\u001b[0m\u001b[0;34m(\u001b[0m\u001b[0mtorch\u001b[0m\u001b[0;34m.\u001b[0m\u001b[0mTensor\u001b[0m\u001b[0;34m(\u001b[0m\u001b[0mzero_list_state\u001b[0m\u001b[0;34m)\u001b[0m\u001b[0;34m)\u001b[0m\u001b[0;34m)\u001b[0m\u001b[0;34m)\u001b[0m\u001b[0;34m\u001b[0m\u001b[0;34m\u001b[0m\u001b[0m\n\u001b[0m",
            "\u001b[0;31mValueError\u001b[0m: only one element tensors can be converted to Python scalars"
          ]
        }
      ],
      "source": [
        "print(len(torch.unique(torch.Tensor(zero_list_state))))"
      ]
    },
    {
      "cell_type": "code",
      "execution_count": null,
      "metadata": {
        "id": "gZDyArymo-kj"
      },
      "outputs": [],
      "source": [
        "with open(work_dir + \"./zero_choise_state\", 'wb') as fp:\n",
        "    pickle.dump(zero_list_state, fp)"
      ]
    },
    {
      "cell_type": "code",
      "execution_count": null,
      "metadata": {
        "id": "kCn7rrEiI-57"
      },
      "outputs": [],
      "source": [
        "with open(work_dir + \"./zero_choise_state\", 'rb') as fp:\n",
        "    zero_list_state_from_file = pickle.load(fp)"
      ]
    },
    {
      "cell_type": "code",
      "execution_count": null,
      "metadata": {
        "id": "enLIofC3NI0s"
      },
      "outputs": [],
      "source": [
        "loss = loss_func\n",
        "optimizer = torch.optim.Adam(model.parameters(), lr=1.0e-6, amsgrad=True)\n",
        "\n",
        "device = torch.device(\"cuda:0\" if torch.cuda.is_available() else \"cpu\")"
      ]
    },
    {
      "cell_type": "code",
      "execution_count": 54,
      "metadata": {
        "colab": {
          "base_uri": "https://localhost:8080/",
          "height": 597
        },
        "id": "kCe90647JT69",
        "outputId": "7a430bf5-7896-47e1-88eb-a1cc6396e3ee"
      },
      "outputs": [
        {
          "ename": "NameError",
          "evalue": "name 'zero_list_state_from_file' is not defined",
          "output_type": "error",
          "traceback": [
            "\u001b[1;31m---------------------------------------------------------------------------\u001b[0m",
            "\u001b[1;31mNameError\u001b[0m                                 Traceback (most recent call last)",
            "Cell \u001b[1;32mIn[54], line 10\u001b[0m\n\u001b[0;32m      6\u001b[0m rezult_step \u001b[39m=\u001b[39m \u001b[39m\"\u001b[39m\u001b[39m\"\u001b[39m\n\u001b[0;32m      8\u001b[0m \u001b[39mfor\u001b[39;00m episode \u001b[39min\u001b[39;00m \u001b[39mrange\u001b[39m(\u001b[39m0\u001b[39m, episodes_count):\n\u001b[1;32m---> 10\u001b[0m      \u001b[39mfor\u001b[39;00m zero_state \u001b[39min\u001b[39;00m zero_list_state_from_file:\n\u001b[0;32m     11\u001b[0m         game \u001b[39m=\u001b[39m Kalah()\n\u001b[0;32m     12\u001b[0m         game\u001b[39m.\u001b[39mset_state(zero_state)\n",
            "\u001b[1;31mNameError\u001b[0m: name 'zero_list_state_from_file' is not defined"
          ]
        }
      ],
      "source": [
        "\n",
        "# Убираем нули\n",
        "episodes_count = 1\n",
        "neuronet_walker_queue = 1\n",
        "count_win_neuronet = 0\n",
        "count_choisen_zero = 0\n",
        "rezult_step = \"\"\n",
        "\n",
        "for episode in range(0, episodes_count):\n",
        "\n",
        "     for zero_state in zero_list_state_from_file:\n",
        "        game = Kalah()\n",
        "        game.set_state(zero_state)\n",
        "        print(game.get_state())\n",
        "        # while \"Хороший ход!\" not in rezult_step:\n",
        "        # Выбор хода\n",
        "        probs = model(game.get_state())\n",
        "        m = Categorical(probs)\n",
        "        action = m.sample()\n",
        "\n",
        "        # Выбор награды и выполнение хода\n",
        "        reward = 0\n",
        "        old_state = game.get_state().to(torch.float)\n",
        "        old_score = game.get_score_player(neuronet_walker_queue)\n",
        "\n",
        "        rezult_step = game.take_step(action + 1)\n",
        "        if rezult_step == \"Куча пустая, выберите другую!\":\n",
        "            count_choisen_zero += 1\n",
        "            print(\"Neuronet took step\", game.get_player_making_step(), \"Был выбор\", action + 1, rezult_step)\n",
        "            print(\"Номер эпизода происшествия:\", episode)\n",
        "            bad_choise.append(action)\n",
        "            reward = -25\n",
        "        else:\n",
        "            reward = game.get_score_player(neuronet_walker_queue) - old_score\n",
        "            if \"Дополнительный ход\" in rezult_step:\n",
        "                reward += 4\n",
        "            if bad_choise != []:\n",
        "                zero_list_state.append(old_state)\n",
        "                bad_choise = []\n",
        "\n",
        "        # loss = 0.\n",
        "        alpha = 0.1\n",
        "        loss = -alpha*reward*m.log_prob(action)\n",
        "\n",
        "        print(episode, loss, \"Номер хода нейронки\", neuronet_walker_queue, reward)\n",
        "\n",
        "        optimizer.zero_grad()\n",
        "        loss.backward()\n",
        "        optimizer.step()\n",
        "        \n",
        "\n",
        "print(count_choisen_zero)\n",
        "print(count_win_neuronet/episodes_count)"
      ]
    },
    {
      "cell_type": "code",
      "execution_count": null,
      "metadata": {
        "id": "gIn1OLJD3_X6"
      },
      "outputs": [],
      "source": [
        "print(count_choisen_zero)\n",
        "print(count_win_neuronet/episodes_count)"
      ]
    }
  ],
  "metadata": {
    "colab": {
      "provenance": []
    },
    "kernelspec": {
      "display_name": "Python 3",
      "language": "python",
      "name": "python3"
    },
    "language_info": {
      "codemirror_mode": {
        "name": "ipython",
        "version": 3
      },
      "file_extension": ".py",
      "mimetype": "text/x-python",
      "name": "python",
      "nbconvert_exporter": "python",
      "pygments_lexer": "ipython3",
      "version": "3.11.2"
    },
    "orig_nbformat": 4,
    "vscode": {
      "interpreter": {
        "hash": "3d71e8b1932faf56dee17752329eeb73c746bdacdb1acbdc067bcd5bd3a88241"
      }
    }
  },
  "nbformat": 4,
  "nbformat_minor": 0
}
